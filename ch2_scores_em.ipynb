{
  "nbformat": 4,
  "nbformat_minor": 0,
  "metadata": {
    "colab": {
      "name": "ch2_scores_em.ipynb",
      "provenance": [],
      "toc_visible": true,
      "mount_file_id": "1ipqGVt1j0IrjOviq9Ic6iMitHKAKjXIc",
      "authorship_tag": "ABX9TyOEXLz7EcUBgzWmpArT/y+N",
      "include_colab_link": true
    },
    "kernelspec": {
      "name": "python3",
      "display_name": "Python 3"
    },
    "language_info": {
      "name": "python"
    }
  },
  "cells": [
    {
      "cell_type": "markdown",
      "metadata": {
        "id": "view-in-github",
        "colab_type": "text"
      },
      "source": [
        "<a href=\"https://colab.research.google.com/github/ganochan/statistical_analysis_with_python_Lern/blob/main/ch2_scores_em.ipynb\" target=\"_parent\"><img src=\"https://colab.research.google.com/assets/colab-badge.svg\" alt=\"Open In Colab\"/></a>"
      ]
    },
    {
      "cell_type": "markdown",
      "metadata": {
        "id": "oIabeyQo7s4y"
      },
      "source": [
        "# 一次元データの整理\n",
        "データの特徴をつかむ方法\n",
        "+ 数値の指標によってデータを要約する：平均や分散\n",
        "+ 視覚的にデータを俯瞰する：図示"
      ]
    },
    {
      "cell_type": "code",
      "metadata": {
        "id": "ftRZjsqN7Sb4"
      },
      "source": [
        "#セッションの準備\n",
        "import numpy as np\n",
        "import pandas as pd\n",
        "\n",
        "#Jupyter Notebookの出力を小数点以下3桁に抑える\n",
        "%precision 3\n",
        "\n",
        "#Dataframeの出力を小数点以下3桁に抑える\n",
        "pd.set_option('precision', 3)"
      ],
      "execution_count": 1,
      "outputs": []
    },
    {
      "cell_type": "code",
      "metadata": {
        "colab": {
          "base_uri": "https://localhost:8080/",
          "height": 235
        },
        "id": "EFOA18JA89Z0",
        "outputId": "161ca6cc-dab5-4285-b777-29ecc6865fd7"
      },
      "source": [
        "#サンプルデータのインポート\n",
        "df = pd.read_csv('drive/MyDrive/python_stat_sample-data/ch2_scores_em.csv', index_col='生徒番号')\n",
        "\n",
        "#dfの最初の5行を表示\n",
        "df.head()"
      ],
      "execution_count": 2,
      "outputs": [
        {
          "output_type": "execute_result",
          "data": {
            "text/html": [
              "<div>\n",
              "<style scoped>\n",
              "    .dataframe tbody tr th:only-of-type {\n",
              "        vertical-align: middle;\n",
              "    }\n",
              "\n",
              "    .dataframe tbody tr th {\n",
              "        vertical-align: top;\n",
              "    }\n",
              "\n",
              "    .dataframe thead th {\n",
              "        text-align: right;\n",
              "    }\n",
              "</style>\n",
              "<table border=\"1\" class=\"dataframe\">\n",
              "  <thead>\n",
              "    <tr style=\"text-align: right;\">\n",
              "      <th></th>\n",
              "      <th>英語</th>\n",
              "      <th>数学</th>\n",
              "    </tr>\n",
              "    <tr>\n",
              "      <th>生徒番号</th>\n",
              "      <th></th>\n",
              "      <th></th>\n",
              "    </tr>\n",
              "  </thead>\n",
              "  <tbody>\n",
              "    <tr>\n",
              "      <th>1</th>\n",
              "      <td>42</td>\n",
              "      <td>65</td>\n",
              "    </tr>\n",
              "    <tr>\n",
              "      <th>2</th>\n",
              "      <td>69</td>\n",
              "      <td>80</td>\n",
              "    </tr>\n",
              "    <tr>\n",
              "      <th>3</th>\n",
              "      <td>56</td>\n",
              "      <td>63</td>\n",
              "    </tr>\n",
              "    <tr>\n",
              "      <th>4</th>\n",
              "      <td>41</td>\n",
              "      <td>63</td>\n",
              "    </tr>\n",
              "    <tr>\n",
              "      <th>5</th>\n",
              "      <td>57</td>\n",
              "      <td>76</td>\n",
              "    </tr>\n",
              "  </tbody>\n",
              "</table>\n",
              "</div>"
            ],
            "text/plain": [
              "      英語  数学\n",
              "生徒番号        \n",
              "1     42  65\n",
              "2     69  80\n",
              "3     56  63\n",
              "4     41  63\n",
              "5     57  76"
            ]
          },
          "metadata": {},
          "execution_count": 2
        }
      ]
    },
    {
      "cell_type": "markdown",
      "metadata": {
        "id": "Zu_YfYCl9wV4"
      },
      "source": [
        "# NumpyとPandasでデータを使えるようにする\n",
        "\n",
        "生徒番号順で10人の英語の点数を使う。このデータをNumpyで計算するために、arrayというデータ構造にしてscoresという名前で保存する。\n",
        "\n",
        "- array は数値計算に強い高機能な多次元配列"
      ]
    },
    {
      "cell_type": "code",
      "metadata": {
        "colab": {
          "base_uri": "https://localhost:8080/"
        },
        "id": "-hnZtpoI9tRK",
        "outputId": "0f2b643c-b3fa-4642-fbc3-59f7f1a9bced"
      },
      "source": [
        "scores = np.array(df['英語'])[:10]\n",
        "scores"
      ],
      "execution_count": 3,
      "outputs": [
        {
          "output_type": "execute_result",
          "data": {
            "text/plain": [
              "array([42, 69, 56, 41, 57, 48, 65, 49, 65, 58])"
            ]
          },
          "metadata": {},
          "execution_count": 3
        }
      ]
    },
    {
      "cell_type": "markdown",
      "metadata": {
        "id": "WHYWXJD0_Bmz"
      },
      "source": [
        "Numpyと同じように、PandasのDataFrameを作る。DataFrameには10人の生徒それぞれに、Aさん、Bさん・・・と名前をつけておく。"
      ]
    },
    {
      "cell_type": "code",
      "metadata": {
        "colab": {
          "base_uri": "https://localhost:8080/",
          "height": 390
        },
        "id": "sO2-rJoe-_qR",
        "outputId": "051f83d6-3b2b-4218-8533-b8fd3fd7193b"
      },
      "source": [
        "scores_df = pd.DataFrame({'点数':scores},index = pd.Index(['A','B','C','D','E','F','G','H','I','J'],name = '生徒'))\n",
        "scores_df"
      ],
      "execution_count": 4,
      "outputs": [
        {
          "output_type": "execute_result",
          "data": {
            "text/html": [
              "<div>\n",
              "<style scoped>\n",
              "    .dataframe tbody tr th:only-of-type {\n",
              "        vertical-align: middle;\n",
              "    }\n",
              "\n",
              "    .dataframe tbody tr th {\n",
              "        vertical-align: top;\n",
              "    }\n",
              "\n",
              "    .dataframe thead th {\n",
              "        text-align: right;\n",
              "    }\n",
              "</style>\n",
              "<table border=\"1\" class=\"dataframe\">\n",
              "  <thead>\n",
              "    <tr style=\"text-align: right;\">\n",
              "      <th></th>\n",
              "      <th>点数</th>\n",
              "    </tr>\n",
              "    <tr>\n",
              "      <th>生徒</th>\n",
              "      <th></th>\n",
              "    </tr>\n",
              "  </thead>\n",
              "  <tbody>\n",
              "    <tr>\n",
              "      <th>A</th>\n",
              "      <td>42</td>\n",
              "    </tr>\n",
              "    <tr>\n",
              "      <th>B</th>\n",
              "      <td>69</td>\n",
              "    </tr>\n",
              "    <tr>\n",
              "      <th>C</th>\n",
              "      <td>56</td>\n",
              "    </tr>\n",
              "    <tr>\n",
              "      <th>D</th>\n",
              "      <td>41</td>\n",
              "    </tr>\n",
              "    <tr>\n",
              "      <th>E</th>\n",
              "      <td>57</td>\n",
              "    </tr>\n",
              "    <tr>\n",
              "      <th>F</th>\n",
              "      <td>48</td>\n",
              "    </tr>\n",
              "    <tr>\n",
              "      <th>G</th>\n",
              "      <td>65</td>\n",
              "    </tr>\n",
              "    <tr>\n",
              "      <th>H</th>\n",
              "      <td>49</td>\n",
              "    </tr>\n",
              "    <tr>\n",
              "      <th>I</th>\n",
              "      <td>65</td>\n",
              "    </tr>\n",
              "    <tr>\n",
              "      <th>J</th>\n",
              "      <td>58</td>\n",
              "    </tr>\n",
              "  </tbody>\n",
              "</table>\n",
              "</div>"
            ],
            "text/plain": [
              "    点数\n",
              "生徒    \n",
              "A   42\n",
              "B   69\n",
              "C   56\n",
              "D   41\n",
              "E   57\n",
              "F   48\n",
              "G   65\n",
              "H   49\n",
              "I   65\n",
              "J   58"
            ]
          },
          "metadata": {},
          "execution_count": 4
        }
      ]
    },
    {
      "cell_type": "markdown",
      "metadata": {
        "id": "7oZkf4NR3feG"
      },
      "source": [
        "## データの中心の指標\n",
        "データの中心を表す指標（データを一つの値で要約するならばこれ）＝代表値\n",
        "# 平均値\n",
        "平均値（mean）"
      ]
    },
    {
      "cell_type": "code",
      "metadata": {
        "colab": {
          "base_uri": "https://localhost:8080/"
        },
        "id": "7YDzngd73uPk",
        "outputId": "fa5235b0-4ff6-4c97-98a1-02c84be8573b"
      },
      "source": [
        "#定義に基づき、Pythonで実直に書く\n",
        "sum(scores) / len(scores)"
      ],
      "execution_count": null,
      "outputs": [
        {
          "output_type": "execute_result",
          "data": {
            "text/plain": [
              "55.000"
            ]
          },
          "metadata": {},
          "execution_count": 5
        }
      ]
    },
    {
      "cell_type": "code",
      "metadata": {
        "colab": {
          "base_uri": "https://localhost:8080/"
        },
        "id": "fp__89Pq4eBC",
        "outputId": "cf786ddd-9a29-4fcb-bbda-4cc3cadb8e94"
      },
      "source": [
        "#NumPyの関数（mean）を使う\n",
        "np.mean(scores)"
      ],
      "execution_count": null,
      "outputs": [
        {
          "output_type": "execute_result",
          "data": {
            "text/plain": [
              "55.000"
            ]
          },
          "metadata": {},
          "execution_count": 6
        }
      ]
    },
    {
      "cell_type": "code",
      "metadata": {
        "colab": {
          "base_uri": "https://localhost:8080/"
        },
        "id": "aqQLCcTv44cz",
        "outputId": "f30389d6-95d5-4164-ec11-7411e8f6c48c"
      },
      "source": [
        "#Dataframeのmeanメソッドを使って平均を求める\n",
        "scores_df.mean()"
      ],
      "execution_count": null,
      "outputs": [
        {
          "output_type": "execute_result",
          "data": {
            "text/plain": [
              "点数    55.0\n",
              "dtype: float64"
            ]
          },
          "metadata": {},
          "execution_count": 9
        }
      ]
    },
    {
      "cell_type": "markdown",
      "metadata": {
        "id": "iQv3mDEu529q"
      },
      "source": [
        "# 中央値\n",
        "中央値（median）：データの大きさの順に並べたときにちょうど中央に位置する値\n",
        "\n",
        "中央値は平均値に比べて外れ値に強い。\n",
        "\n",
        "データの数が偶数の場合は中央値はそれら二つの値の平均値と定義される。\n",
        "\n",
        "中央値の定義\n",
        "\n",
        "\n",
        "*   データ数nが奇数なら、（n+1)/2番目のデータが中央値\n",
        "*   データ数nが偶数なら、n/2番目のデータとn/2+1番目のデータの平均が中央値\n",
        "\n"
      ]
    },
    {
      "cell_type": "code",
      "metadata": {
        "colab": {
          "base_uri": "https://localhost:8080/"
        },
        "id": "cqU0_HTd6ImC",
        "outputId": "db5cf9b5-e0e3-4ae4-b005-0ac3d96fdd2c"
      },
      "source": [
        "#scores内の点数を大きさの順番に並べる\n",
        "sorted_scores = np.sort(scores)\n",
        "sorted_scores"
      ],
      "execution_count": null,
      "outputs": [
        {
          "output_type": "execute_result",
          "data": {
            "text/plain": [
              "array([41, 42, 48, 49, 56, 57, 58, 65, 65, 69])"
            ]
          },
          "metadata": {},
          "execution_count": 10
        }
      ]
    },
    {
      "cell_type": "code",
      "metadata": {
        "colab": {
          "base_uri": "https://localhost:8080/"
        },
        "id": "KAJpnwly7Ze-",
        "outputId": "2cbd0cc4-c2ce-451d-f7fd-283c7778c920"
      },
      "source": [
        "#中央値の定義をPythonのコードに落とす。リストのインデックスは0はじまりであるため、定義とは１ずれることに注意\n",
        "n = len(sorted_scores)\n",
        "if n % 2 == 0: #偶奇を判定（偶数ならifの中へ）\n",
        "    m0 = sorted_scores[n//2 - 1] #中央値の前の値\n",
        "    m1 = sorted_scores[n//2] #中央値の後の値\n",
        "    median = (m0 + m1) / 2\n",
        "else:\n",
        "    median = sorted_scores[(n + 1)// - 1]\n",
        "median"
      ],
      "execution_count": null,
      "outputs": [
        {
          "output_type": "execute_result",
          "data": {
            "text/plain": [
              "56.500"
            ]
          },
          "metadata": {},
          "execution_count": 11
        }
      ]
    },
    {
      "cell_type": "code",
      "metadata": {
        "colab": {
          "base_uri": "https://localhost:8080/"
        },
        "id": "sYAdtVzb8u44",
        "outputId": "f7b9b7c0-068a-47f2-d5dd-0846dceb38fe"
      },
      "source": [
        "#Numpyのmedian関数を使って中央値を計算(sortが含まれる)\n",
        "np.median(scores)"
      ],
      "execution_count": null,
      "outputs": [
        {
          "output_type": "execute_result",
          "data": {
            "text/plain": [
              "56.500"
            ]
          },
          "metadata": {},
          "execution_count": 12
        }
      ]
    },
    {
      "cell_type": "code",
      "metadata": {
        "colab": {
          "base_uri": "https://localhost:8080/"
        },
        "id": "ICN_3RCF9Dh3",
        "outputId": "310a9881-d74d-4247-f0eb-608fa9caa56d"
      },
      "source": [
        "#DataframeやSeriesの場合、medianメソッドが利用可能\n",
        "scores_df.median()"
      ],
      "execution_count": null,
      "outputs": [
        {
          "output_type": "execute_result",
          "data": {
            "text/plain": [
              "点数    56.5\n",
              "dtype: float64"
            ]
          },
          "metadata": {},
          "execution_count": 13
        }
      ]
    },
    {
      "cell_type": "markdown",
      "metadata": {
        "id": "J6FBSBYn9i8K"
      },
      "source": [
        "# 最頻値\n",
        "最頻値（mode）:データ内で最も多く出現する値\n",
        "\n",
        "DataFrameやSeriesのmodeメソッドを利用する\n",
        "\n",
        "最頻値は質的データの代表値を求めるときに使う指標。テストの点数のような量的データについて最頻値を求めようとしても、まったく同じ点数が出ている頻度が少なく、一意に定まらないことが多い。"
      ]
    },
    {
      "cell_type": "code",
      "metadata": {
        "colab": {
          "base_uri": "https://localhost:8080/"
        },
        "id": "a4deTO-H-JbM",
        "outputId": "f4ab4891-279b-4e78-d8f9-360e8aba82c7"
      },
      "source": [
        "#PandasのSeriesの中に含まれる6個の要素のmodeをとる。\n",
        "pd.Series([1,1,1,2,2,3,]).mode()"
      ],
      "execution_count": null,
      "outputs": [
        {
          "output_type": "execute_result",
          "data": {
            "text/plain": [
              "0    1\n",
              "dtype: int64"
            ]
          },
          "metadata": {},
          "execution_count": 14
        }
      ]
    },
    {
      "cell_type": "code",
      "metadata": {
        "colab": {
          "base_uri": "https://localhost:8080/"
        },
        "id": "Zib166lk-rY-",
        "outputId": "008e2d7b-880e-4a13-cffb-441df39062e2"
      },
      "source": [
        "#最頻値が一意に定まらない例（要素が全部表示されてしまう）\n",
        "pd.Series([1,2,3,4,5]).mode()"
      ],
      "execution_count": null,
      "outputs": [
        {
          "output_type": "execute_result",
          "data": {
            "text/plain": [
              "0    1\n",
              "1    2\n",
              "2    3\n",
              "3    4\n",
              "4    5\n",
              "dtype: int64"
            ]
          },
          "metadata": {},
          "execution_count": 15
        }
      ]
    },
    {
      "cell_type": "markdown",
      "metadata": {
        "id": "-VYFzTLA_x3T"
      },
      "source": [
        "## データのばらつきの指標\n",
        "平均値や中央値によって、データを代表する値は得られる。しかしクラス全員が50点のテストとクラスの半分が0点、残りが100点のテストでも平均点と中央値は50点となる。データのばらつきを数値で表現する方法を理解する\n",
        "\n",
        "# 分散と標準偏差\n",
        "偏差（deviation）：各データが平均からどれだけ離れているか"
      ]
    },
    {
      "cell_type": "code",
      "metadata": {
        "colab": {
          "base_uri": "https://localhost:8080/"
        },
        "id": "9ugDBpwoA4fR",
        "outputId": "2a134983-702a-416e-c76a-634327881612"
      },
      "source": [
        "#NumPyのブロードキャストという機能を用いて、各生徒の偏差を求める\n",
        "mean = np.mean(scores) # scoresの平均値を求める\n",
        "deviation = scores - mean # scores内の値がそれぞれ平均とどれだけ離れているかを求める\n",
        "deviation"
      ],
      "execution_count": null,
      "outputs": [
        {
          "output_type": "execute_result",
          "data": {
            "text/plain": [
              "array([-13.,  14.,   1., -14.,   2.,  -7.,  10.,  -6.,  10.,   3.])"
            ]
          },
          "metadata": {},
          "execution_count": 17
        }
      ]
    },
    {
      "cell_type": "code",
      "metadata": {
        "colab": {
          "base_uri": "https://localhost:8080/"
        },
        "id": "qHjCVL-cCjfo",
        "outputId": "2c023c61-4a87-4305-e542-ac36d6534f1b"
      },
      "source": [
        "#10人が受けた別のテストの偏差も求める\n",
        "another_scores = [50, 60, 58, 54, 51, 56, 57, 53, 52, 59]\n",
        "another_mean = np.mean(another_scores)\n",
        "another_deviation = another_scores - another_mean\n",
        "another_deviation"
      ],
      "execution_count": null,
      "outputs": [
        {
          "output_type": "execute_result",
          "data": {
            "text/plain": [
              "array([-5.,  5.,  3., -1., -4.,  1.,  2., -2., -3.,  4.])"
            ]
          },
          "metadata": {},
          "execution_count": 19
        }
      ]
    },
    {
      "cell_type": "markdown",
      "metadata": {
        "id": "tXeiLiDFDGt7"
      },
      "source": [
        "scoreとanother_scoreではscoreのほうが、点数のばらつきが大きいように見える。\n",
        "\n",
        "偏差を代表値として一つの値にまとめることはできない。（偏差の平均は常に０になる）"
      ]
    },
    {
      "cell_type": "code",
      "metadata": {
        "colab": {
          "base_uri": "https://localhost:8080/"
        },
        "id": "ZQeWzXAHDfoM",
        "outputId": "3319ff01-e36b-4320-c62f-e6151fde9a13"
      },
      "source": [
        "#deviation（scoresの偏差）の平均を表示する\n",
        "np.mean(deviation)"
      ],
      "execution_count": null,
      "outputs": [
        {
          "output_type": "execute_result",
          "data": {
            "text/plain": [
              "0.000"
            ]
          },
          "metadata": {},
          "execution_count": 20
        }
      ]
    },
    {
      "cell_type": "code",
      "metadata": {
        "id": "3bJJNc2mET4Z"
      },
      "source": [
        "#another_deviation(another_scoresの偏差）の平均を表示する\n",
        "np.mean(another_deviation)"
      ],
      "execution_count": null,
      "outputs": []
    },
    {
      "cell_type": "code",
      "metadata": {
        "colab": {
          "base_uri": "https://localhost:8080/",
          "height": 390
        },
        "id": "LhRxZMGSEaFx",
        "outputId": "6d6a8a74-e37a-420a-b8e3-5099f4a7bf0a"
      },
      "source": [
        "#DataFrameを使ってまとめると\n",
        "summary_df = scores_df.copy()\n",
        "summary_df['偏差'] = deviation\n",
        "summary_df"
      ],
      "execution_count": null,
      "outputs": [
        {
          "output_type": "execute_result",
          "data": {
            "text/html": [
              "<div>\n",
              "<style scoped>\n",
              "    .dataframe tbody tr th:only-of-type {\n",
              "        vertical-align: middle;\n",
              "    }\n",
              "\n",
              "    .dataframe tbody tr th {\n",
              "        vertical-align: top;\n",
              "    }\n",
              "\n",
              "    .dataframe thead th {\n",
              "        text-align: right;\n",
              "    }\n",
              "</style>\n",
              "<table border=\"1\" class=\"dataframe\">\n",
              "  <thead>\n",
              "    <tr style=\"text-align: right;\">\n",
              "      <th></th>\n",
              "      <th>点数</th>\n",
              "      <th>偏差</th>\n",
              "    </tr>\n",
              "    <tr>\n",
              "      <th>生徒</th>\n",
              "      <th></th>\n",
              "      <th></th>\n",
              "    </tr>\n",
              "  </thead>\n",
              "  <tbody>\n",
              "    <tr>\n",
              "      <th>A</th>\n",
              "      <td>42</td>\n",
              "      <td>-13.0</td>\n",
              "    </tr>\n",
              "    <tr>\n",
              "      <th>B</th>\n",
              "      <td>69</td>\n",
              "      <td>14.0</td>\n",
              "    </tr>\n",
              "    <tr>\n",
              "      <th>C</th>\n",
              "      <td>56</td>\n",
              "      <td>1.0</td>\n",
              "    </tr>\n",
              "    <tr>\n",
              "      <th>D</th>\n",
              "      <td>41</td>\n",
              "      <td>-14.0</td>\n",
              "    </tr>\n",
              "    <tr>\n",
              "      <th>E</th>\n",
              "      <td>57</td>\n",
              "      <td>2.0</td>\n",
              "    </tr>\n",
              "    <tr>\n",
              "      <th>F</th>\n",
              "      <td>48</td>\n",
              "      <td>-7.0</td>\n",
              "    </tr>\n",
              "    <tr>\n",
              "      <th>G</th>\n",
              "      <td>65</td>\n",
              "      <td>10.0</td>\n",
              "    </tr>\n",
              "    <tr>\n",
              "      <th>H</th>\n",
              "      <td>49</td>\n",
              "      <td>-6.0</td>\n",
              "    </tr>\n",
              "    <tr>\n",
              "      <th>I</th>\n",
              "      <td>65</td>\n",
              "      <td>10.0</td>\n",
              "    </tr>\n",
              "    <tr>\n",
              "      <th>J</th>\n",
              "      <td>58</td>\n",
              "      <td>3.0</td>\n",
              "    </tr>\n",
              "  </tbody>\n",
              "</table>\n",
              "</div>"
            ],
            "text/plain": [
              "    点数    偏差\n",
              "生徒          \n",
              "A   42 -13.0\n",
              "B   69  14.0\n",
              "C   56   1.0\n",
              "D   41 -14.0\n",
              "E   57   2.0\n",
              "F   48  -7.0\n",
              "G   65  10.0\n",
              "H   49  -6.0\n",
              "I   65  10.0\n",
              "J   58   3.0"
            ]
          },
          "metadata": {},
          "execution_count": 24
        }
      ]
    },
    {
      "cell_type": "code",
      "metadata": {
        "colab": {
          "base_uri": "https://localhost:8080/"
        },
        "id": "KzmB0PuiFyX-",
        "outputId": "a373802a-cd69-4eba-efb0-d6998bb86c4f"
      },
      "source": [
        "summary_df.mean()"
      ],
      "execution_count": null,
      "outputs": [
        {
          "output_type": "execute_result",
          "data": {
            "text/plain": [
              "点数    55.0\n",
              "偏差     0.0\n",
              "dtype: float64"
            ]
          },
          "metadata": {},
          "execution_count": 25
        }
      ]
    },
    {
      "cell_type": "markdown",
      "metadata": {
        "id": "isP035haF7Gt"
      },
      "source": [
        "分散（variance）：偏差の二乗の平均"
      ]
    },
    {
      "cell_type": "code",
      "metadata": {
        "colab": {
          "base_uri": "https://localhost:8080/"
        },
        "id": "eac47QTPGLcF",
        "outputId": "8a70e7bd-f116-48ff-f5db-01d5245020b0"
      },
      "source": [
        "#分散の定義をPythonで落とす\n",
        "np.mean(deviation ** 2) #deviation（偏差）の二乗（** 2）の平均（.mean）を求める"
      ],
      "execution_count": null,
      "outputs": [
        {
          "output_type": "execute_result",
          "data": {
            "text/plain": [
              "86.000"
            ]
          },
          "metadata": {},
          "execution_count": 26
        }
      ]
    },
    {
      "cell_type": "code",
      "metadata": {
        "colab": {
          "base_uri": "https://localhost:8080/"
        },
        "id": "dvE4XYfWGh7o",
        "outputId": "1aee1f9c-6018-42a0-bad5-3a890e7b3c48"
      },
      "source": [
        "#NumPyで分散を求める\n",
        "np.var(scores)"
      ],
      "execution_count": null,
      "outputs": [
        {
          "output_type": "execute_result",
          "data": {
            "text/plain": [
              "86.000"
            ]
          },
          "metadata": {},
          "execution_count": 27
        }
      ]
    },
    {
      "cell_type": "markdown",
      "metadata": {
        "id": "HPDGAlAkGyYy"
      },
      "source": [
        "DataFrameやSeriesにもvarメソッドが存在するが、NumPyで求めたものとは異なる。\n",
        "Pandasで計算される分散は違う値となってしまうことに注意。\n",
        "\n",
        "\n",
        "\n",
        "*   標本分散：Numpyのデフォルト（本書の分散ではこちらを利用）\n",
        "*   不偏分散：Pandasのデフォルト（推測統計において重要な役割を持つ指標）\n",
        "\n"
      ]
    },
    {
      "cell_type": "code",
      "metadata": {
        "colab": {
          "base_uri": "https://localhost:8080/"
        },
        "id": "nOpdp1gGG706",
        "outputId": "c955fa1d-6831-437d-9572-a278a4cfba93"
      },
      "source": [
        "scores_df.var()"
      ],
      "execution_count": null,
      "outputs": [
        {
          "output_type": "execute_result",
          "data": {
            "text/plain": [
              "点数    95.556\n",
              "dtype: float64"
            ]
          },
          "metadata": {},
          "execution_count": 32
        }
      ]
    },
    {
      "cell_type": "code",
      "metadata": {
        "colab": {
          "base_uri": "https://localhost:8080/",
          "height": 390
        },
        "id": "35R1f7neIBCg",
        "outputId": "2a413d35-1c87-4bce-af94-8227db49b7b4"
      },
      "source": [
        "#summry_dfに偏差二乗の列を追加しておく\n",
        "summary_df[('偏差二乗')] = np.square(deviation)\n",
        "summary_df"
      ],
      "execution_count": null,
      "outputs": [
        {
          "output_type": "execute_result",
          "data": {
            "text/html": [
              "<div>\n",
              "<style scoped>\n",
              "    .dataframe tbody tr th:only-of-type {\n",
              "        vertical-align: middle;\n",
              "    }\n",
              "\n",
              "    .dataframe tbody tr th {\n",
              "        vertical-align: top;\n",
              "    }\n",
              "\n",
              "    .dataframe thead th {\n",
              "        text-align: right;\n",
              "    }\n",
              "</style>\n",
              "<table border=\"1\" class=\"dataframe\">\n",
              "  <thead>\n",
              "    <tr style=\"text-align: right;\">\n",
              "      <th></th>\n",
              "      <th>点数</th>\n",
              "      <th>偏差</th>\n",
              "      <th>偏差二乗</th>\n",
              "    </tr>\n",
              "    <tr>\n",
              "      <th>生徒</th>\n",
              "      <th></th>\n",
              "      <th></th>\n",
              "      <th></th>\n",
              "    </tr>\n",
              "  </thead>\n",
              "  <tbody>\n",
              "    <tr>\n",
              "      <th>A</th>\n",
              "      <td>42</td>\n",
              "      <td>-13.0</td>\n",
              "      <td>169.0</td>\n",
              "    </tr>\n",
              "    <tr>\n",
              "      <th>B</th>\n",
              "      <td>69</td>\n",
              "      <td>14.0</td>\n",
              "      <td>196.0</td>\n",
              "    </tr>\n",
              "    <tr>\n",
              "      <th>C</th>\n",
              "      <td>56</td>\n",
              "      <td>1.0</td>\n",
              "      <td>1.0</td>\n",
              "    </tr>\n",
              "    <tr>\n",
              "      <th>D</th>\n",
              "      <td>41</td>\n",
              "      <td>-14.0</td>\n",
              "      <td>196.0</td>\n",
              "    </tr>\n",
              "    <tr>\n",
              "      <th>E</th>\n",
              "      <td>57</td>\n",
              "      <td>2.0</td>\n",
              "      <td>4.0</td>\n",
              "    </tr>\n",
              "    <tr>\n",
              "      <th>F</th>\n",
              "      <td>48</td>\n",
              "      <td>-7.0</td>\n",
              "      <td>49.0</td>\n",
              "    </tr>\n",
              "    <tr>\n",
              "      <th>G</th>\n",
              "      <td>65</td>\n",
              "      <td>10.0</td>\n",
              "      <td>100.0</td>\n",
              "    </tr>\n",
              "    <tr>\n",
              "      <th>H</th>\n",
              "      <td>49</td>\n",
              "      <td>-6.0</td>\n",
              "      <td>36.0</td>\n",
              "    </tr>\n",
              "    <tr>\n",
              "      <th>I</th>\n",
              "      <td>65</td>\n",
              "      <td>10.0</td>\n",
              "      <td>100.0</td>\n",
              "    </tr>\n",
              "    <tr>\n",
              "      <th>J</th>\n",
              "      <td>58</td>\n",
              "      <td>3.0</td>\n",
              "      <td>9.0</td>\n",
              "    </tr>\n",
              "  </tbody>\n",
              "</table>\n",
              "</div>"
            ],
            "text/plain": [
              "    点数    偏差   偏差二乗\n",
              "生徒                 \n",
              "A   42 -13.0  169.0\n",
              "B   69  14.0  196.0\n",
              "C   56   1.0    1.0\n",
              "D   41 -14.0  196.0\n",
              "E   57   2.0    4.0\n",
              "F   48  -7.0   49.0\n",
              "G   65  10.0  100.0\n",
              "H   49  -6.0   36.0\n",
              "I   65  10.0  100.0\n",
              "J   58   3.0    9.0"
            ]
          },
          "metadata": {},
          "execution_count": 33
        }
      ]
    },
    {
      "cell_type": "code",
      "metadata": {
        "colab": {
          "base_uri": "https://localhost:8080/"
        },
        "id": "KUxjHHYGIcYf",
        "outputId": "a454aadd-3e06-4c35-bd75-98e6090cb0dc"
      },
      "source": [
        "summary_df.mean()\n",
        "#偏差二乗の列の平均をとると分散の値になる"
      ],
      "execution_count": null,
      "outputs": [
        {
          "output_type": "execute_result",
          "data": {
            "text/plain": [
              "点数      55.0\n",
              "偏差       0.0\n",
              "偏差二乗    86.0\n",
              "dtype: float64"
            ]
          },
          "metadata": {},
          "execution_count": 34
        }
      ]
    },
    {
      "cell_type": "markdown",
      "metadata": {
        "id": "eEoR9iS3ekSY"
      },
      "source": [
        "標準偏差：分散のルートをとった値"
      ]
    },
    {
      "cell_type": "code",
      "metadata": {
        "colab": {
          "base_uri": "https://localhost:8080/"
        },
        "id": "eIZOZaUdesyD",
        "outputId": "3af86f8b-3e93-4747-b585-3d8c13460346"
      },
      "source": [
        "#分散のルートをとる\n",
        "np.sqrt(np.var(scores, ddof=0))"
      ],
      "execution_count": null,
      "outputs": [
        {
          "output_type": "execute_result",
          "data": {
            "text/plain": [
              "9.274"
            ]
          },
          "metadata": {},
          "execution_count": 35
        }
      ]
    },
    {
      "cell_type": "markdown",
      "metadata": {
        "id": "WbfgiEm8IXd4"
      },
      "source": [
        "# 範囲と四分位範囲\n",
        "範囲（range）:データの最大値と最小値だけでばらつきを表現する\n",
        "\n",
        "最大値と最小値の差が大きければ、ばらつきが大きく、小さければばらつきも小さいという考え方。大雑把な指標で外れ値に弱い。"
      ]
    },
    {
      "cell_type": "code",
      "metadata": {
        "colab": {
          "base_uri": "https://localhost:8080/"
        },
        "id": "T6f8VLR1Ixdy",
        "outputId": "54eccb19-deed-48e9-9448-99ae634ec5db"
      },
      "source": [
        "#数式とPythonを使った実装\n",
        "np.max(scores) - np.min(scores)"
      ],
      "execution_count": null,
      "outputs": [
        {
          "output_type": "execute_result",
          "data": {
            "text/plain": [
              "28"
            ]
          },
          "metadata": {},
          "execution_count": 5
        }
      ]
    },
    {
      "cell_type": "markdown",
      "metadata": {
        "id": "TqfBpiJGJD_R"
      },
      "source": [
        "四分位範囲（interquartile range）：データの下位25%（Q1:第1四分位）、50%（Q2:第2四分位）,75%（Q3:第3四分位）に位置する値に注目する。そして四分位範囲（IQR=Q3-Q1）として定義する。"
      ]
    },
    {
      "cell_type": "code",
      "metadata": {
        "colab": {
          "base_uri": "https://localhost:8080/"
        },
        "id": "Jbc5m7xmKGTz",
        "outputId": "4f48a4fd-6687-4402-a367-26c8996236d4"
      },
      "source": [
        "# scoresのIQRを求める。データの25%点などはNumPyのpercentileという関数で求める\n",
        "scores_Q1 = np.percentile(scores, 25)\n",
        "scores_Q3 = np.percentile(scores, 75)\n",
        "scores_IQR = scores_Q3 - scores_Q1\n",
        "scores_IQR"
      ],
      "execution_count": null,
      "outputs": [
        {
          "output_type": "execute_result",
          "data": {
            "text/plain": [
              "15.000"
            ]
          },
          "metadata": {},
          "execution_count": 11
        }
      ]
    },
    {
      "cell_type": "markdown",
      "metadata": {
        "id": "O0nGhF6CLPP9"
      },
      "source": [
        "IQRを求める際に使わなかったQ2は中央値に一致する。IQRは中央値に対して定義されるばらつきの指標と解釈する。\n",
        "\n",
        "Q1,Q2,Q3,IQRは箱ひげ図という図示方法でも使う。"
      ]
    },
    {
      "cell_type": "code",
      "metadata": {
        "colab": {
          "base_uri": "https://localhost:8080/"
        },
        "id": "_Run_EvQMFMj",
        "outputId": "ce21f387-0303-4d8b-bab1-103710e67e28"
      },
      "source": [
        "#describe関数を使って、DatafremeやSeriesの様々なデータ指標を一度に求める\n",
        "pd.Series(scores).describe()"
      ],
      "execution_count": null,
      "outputs": [
        {
          "output_type": "execute_result",
          "data": {
            "text/plain": [
              "count    10.000\n",
              "mean     55.000\n",
              "std       9.775\n",
              "min      41.000\n",
              "25%      48.250\n",
              "50%      56.500\n",
              "75%      63.250\n",
              "max      69.000\n",
              "dtype: float64"
            ]
          },
          "metadata": {},
          "execution_count": 12
        }
      ]
    },
    {
      "cell_type": "markdown",
      "metadata": {
        "id": "rQTvQ-VAHhHN"
      },
      "source": [
        "# データの正規化\n",
        "正規化（normalization）：データを統一的な指標に変換すること\n"
      ]
    },
    {
      "cell_type": "markdown",
      "metadata": {
        "id": "iV3YG404H60B"
      },
      "source": [
        "## 標準化\n",
        "標準化（standardization）：データから平均を引き、標準偏差で割る操作\n",
        "\n",
        "標準化されたデータ：基準化変量（standardized data）／Zスコア（z-score）"
      ]
    },
    {
      "cell_type": "code",
      "metadata": {
        "colab": {
          "base_uri": "https://localhost:8080/"
        },
        "id": "xozHn12-IXQd",
        "outputId": "4aaed2f2-8855-4805-812d-314c36de4a94"
      },
      "source": [
        "#テストの点数を標準化する\n",
        "z = (scores - np.mean(scores)) / np.std(scores)\n",
        "z"
      ],
      "execution_count": 5,
      "outputs": [
        {
          "output_type": "execute_result",
          "data": {
            "text/plain": [
              "array([-1.402,  1.51 ,  0.108, -1.51 ,  0.216, -0.755,  1.078, -0.647,\n",
              "        1.078,  0.323])"
            ]
          },
          "metadata": {},
          "execution_count": 5
        }
      ]
    },
    {
      "cell_type": "code",
      "metadata": {
        "colab": {
          "base_uri": "https://localhost:8080/"
        },
        "id": "iB0A-Ko8ItcX",
        "outputId": "e537b2f1-a980-4d3d-eb76-5bac92ec521f"
      },
      "source": [
        "#標準化されたデータは平均が0で標準偏差が１になる\n",
        "np.mean(z), np.std(z, ddof=0)"
      ],
      "execution_count": 6,
      "outputs": [
        {
          "output_type": "execute_result",
          "data": {
            "text/plain": [
              "(-0.000, 1.000)"
            ]
          },
          "metadata": {},
          "execution_count": 6
        }
      ]
    },
    {
      "cell_type": "markdown",
      "metadata": {
        "id": "uyjlnh-oJFa7"
      },
      "source": [
        "## 偏差値\n",
        "偏差値：平均が50、標準偏差が10になるように正規化した値"
      ]
    },
    {
      "cell_type": "code",
      "metadata": {
        "colab": {
          "base_uri": "https://localhost:8080/"
        },
        "id": "0AFf-ga4JOuX",
        "outputId": "361c4028-58d9-4d78-971d-286ac58654b6"
      },
      "source": [
        "#scoreのデータを使って各生徒の偏差値を計算する\n",
        "z = 50 + 10 * (scores - np.mean(scores)) / np.std(scores)\n",
        "z"
      ],
      "execution_count": 8,
      "outputs": [
        {
          "output_type": "execute_result",
          "data": {
            "text/plain": [
              "array([35.982, 65.097, 51.078, 34.903, 52.157, 42.452, 60.783, 43.53 ,\n",
              "       60.783, 53.235])"
            ]
          },
          "metadata": {},
          "execution_count": 8
        }
      ]
    },
    {
      "cell_type": "code",
      "metadata": {
        "colab": {
          "base_uri": "https://localhost:8080/",
          "height": 390
        },
        "id": "uJuwRogMJsZ_",
        "outputId": "320dbc21-0b24-4af4-cbd4-04c0cacae616"
      },
      "source": [
        "# DataFrameにまとめて、点数と偏差値の関係を見る\n",
        "scores_df['偏差値'] = z\n",
        "scores_df"
      ],
      "execution_count": 9,
      "outputs": [
        {
          "output_type": "execute_result",
          "data": {
            "text/html": [
              "<div>\n",
              "<style scoped>\n",
              "    .dataframe tbody tr th:only-of-type {\n",
              "        vertical-align: middle;\n",
              "    }\n",
              "\n",
              "    .dataframe tbody tr th {\n",
              "        vertical-align: top;\n",
              "    }\n",
              "\n",
              "    .dataframe thead th {\n",
              "        text-align: right;\n",
              "    }\n",
              "</style>\n",
              "<table border=\"1\" class=\"dataframe\">\n",
              "  <thead>\n",
              "    <tr style=\"text-align: right;\">\n",
              "      <th></th>\n",
              "      <th>点数</th>\n",
              "      <th>偏差値</th>\n",
              "    </tr>\n",
              "    <tr>\n",
              "      <th>生徒</th>\n",
              "      <th></th>\n",
              "      <th></th>\n",
              "    </tr>\n",
              "  </thead>\n",
              "  <tbody>\n",
              "    <tr>\n",
              "      <th>A</th>\n",
              "      <td>42</td>\n",
              "      <td>35.982</td>\n",
              "    </tr>\n",
              "    <tr>\n",
              "      <th>B</th>\n",
              "      <td>69</td>\n",
              "      <td>65.097</td>\n",
              "    </tr>\n",
              "    <tr>\n",
              "      <th>C</th>\n",
              "      <td>56</td>\n",
              "      <td>51.078</td>\n",
              "    </tr>\n",
              "    <tr>\n",
              "      <th>D</th>\n",
              "      <td>41</td>\n",
              "      <td>34.903</td>\n",
              "    </tr>\n",
              "    <tr>\n",
              "      <th>E</th>\n",
              "      <td>57</td>\n",
              "      <td>52.157</td>\n",
              "    </tr>\n",
              "    <tr>\n",
              "      <th>F</th>\n",
              "      <td>48</td>\n",
              "      <td>42.452</td>\n",
              "    </tr>\n",
              "    <tr>\n",
              "      <th>G</th>\n",
              "      <td>65</td>\n",
              "      <td>60.783</td>\n",
              "    </tr>\n",
              "    <tr>\n",
              "      <th>H</th>\n",
              "      <td>49</td>\n",
              "      <td>43.530</td>\n",
              "    </tr>\n",
              "    <tr>\n",
              "      <th>I</th>\n",
              "      <td>65</td>\n",
              "      <td>60.783</td>\n",
              "    </tr>\n",
              "    <tr>\n",
              "      <th>J</th>\n",
              "      <td>58</td>\n",
              "      <td>53.235</td>\n",
              "    </tr>\n",
              "  </tbody>\n",
              "</table>\n",
              "</div>"
            ],
            "text/plain": [
              "    点数     偏差値\n",
              "生徒            \n",
              "A   42  35.982\n",
              "B   69  65.097\n",
              "C   56  51.078\n",
              "D   41  34.903\n",
              "E   57  52.157\n",
              "F   48  42.452\n",
              "G   65  60.783\n",
              "H   49  43.530\n",
              "I   65  60.783\n",
              "J   58  53.235"
            ]
          },
          "metadata": {},
          "execution_count": 9
        }
      ]
    },
    {
      "cell_type": "markdown",
      "metadata": {
        "id": "1kMBhhOIKBQZ"
      },
      "source": [
        "# 1次元データの視覚化\n",
        "データを表や図にすることでデータの特徴や分布を視覚的につかんでいく方法"
      ]
    },
    {
      "cell_type": "code",
      "metadata": {
        "colab": {
          "base_uri": "https://localhost:8080/"
        },
        "id": "24ITJXS5Kmby",
        "outputId": "d18656b3-d3e3-42b1-8f0f-bf9935db1f76"
      },
      "source": [
        "#50人分の英語の点数のarray\n",
        "english_scores = np.array(df['英語'])\n",
        "#Seriesに変換してdescribeを表示\n",
        "pd.Series(english_scores).describe()"
      ],
      "execution_count": 11,
      "outputs": [
        {
          "output_type": "execute_result",
          "data": {
            "text/plain": [
              "count    50.00\n",
              "mean     58.38\n",
              "std       9.80\n",
              "min      37.00\n",
              "25%      54.00\n",
              "50%      57.50\n",
              "75%      65.00\n",
              "max      79.00\n",
              "dtype: float64"
            ]
          },
          "metadata": {},
          "execution_count": 11
        }
      ]
    },
    {
      "cell_type": "markdown",
      "metadata": {
        "id": "dUKqw3_eLEqJ"
      },
      "source": [
        "##度数分布表\n",
        "データがとる値をいくつかの区間に分けて、各区間にいくつのデータが分類されるかを数える。分割した区間とデータ数を表にまとめたものが度数分布表。\n",
        "\n",
        "*   区間：階級（class）\n",
        "*   階級に属しているデータの数：度数（frequency）\n",
        "*   各区間の幅：階級幅\n",
        "*   階級の数：階級数\n",
        "\n",
        "\n",
        "\n"
      ]
    },
    {
      "cell_type": "code",
      "metadata": {
        "colab": {
          "base_uri": "https://localhost:8080/"
        },
        "id": "kQSBbeIENbEX",
        "outputId": "e00e11a9-f565-494f-aaa9-cee70e689aad"
      },
      "source": [
        "# 度数分布表を作成\n",
        "#度数はnp.histgram関数を利用：binsで階級数、rangeで最小値と最大値を指定\n",
        "freq, _ = np.histogram(english_scores, bins = 10, range=(0,100))\n",
        "freq"
      ],
      "execution_count": 14,
      "outputs": [
        {
          "output_type": "execute_result",
          "data": {
            "text/plain": [
              "array([ 0,  0,  0,  2,  8, 16, 18,  6,  0,  0])"
            ]
          },
          "metadata": {},
          "execution_count": 14
        }
      ]
    },
    {
      "cell_type": "code",
      "metadata": {
        "colab": {
          "base_uri": "https://localhost:8080/",
          "height": 390
        },
        "id": "uGkiLArIOQ6s",
        "outputId": "5fb6afd0-057c-49ac-970d-e110c968383f"
      },
      "source": [
        "#DataFrameに結果をまとめる。\n",
        "#0～10,10～20,・・・といった文字列のリストを作る\n",
        "freq_class = [f'{i}~{i+10}' for i in range(0,100,10)]\n",
        "#freq_classをインデックスにしてfreqでDataFrameを作る\n",
        "freq_dist_df = pd.DataFrame({'度数':freq}, index = pd.Index(freq_class, name='度数'))\n",
        "freq_dist_df"
      ],
      "execution_count": 15,
      "outputs": [
        {
          "output_type": "execute_result",
          "data": {
            "text/html": [
              "<div>\n",
              "<style scoped>\n",
              "    .dataframe tbody tr th:only-of-type {\n",
              "        vertical-align: middle;\n",
              "    }\n",
              "\n",
              "    .dataframe tbody tr th {\n",
              "        vertical-align: top;\n",
              "    }\n",
              "\n",
              "    .dataframe thead th {\n",
              "        text-align: right;\n",
              "    }\n",
              "</style>\n",
              "<table border=\"1\" class=\"dataframe\">\n",
              "  <thead>\n",
              "    <tr style=\"text-align: right;\">\n",
              "      <th></th>\n",
              "      <th>度数</th>\n",
              "    </tr>\n",
              "    <tr>\n",
              "      <th>度数</th>\n",
              "      <th></th>\n",
              "    </tr>\n",
              "  </thead>\n",
              "  <tbody>\n",
              "    <tr>\n",
              "      <th>0~10</th>\n",
              "      <td>0</td>\n",
              "    </tr>\n",
              "    <tr>\n",
              "      <th>10~20</th>\n",
              "      <td>0</td>\n",
              "    </tr>\n",
              "    <tr>\n",
              "      <th>20~30</th>\n",
              "      <td>0</td>\n",
              "    </tr>\n",
              "    <tr>\n",
              "      <th>30~40</th>\n",
              "      <td>2</td>\n",
              "    </tr>\n",
              "    <tr>\n",
              "      <th>40~50</th>\n",
              "      <td>8</td>\n",
              "    </tr>\n",
              "    <tr>\n",
              "      <th>50~60</th>\n",
              "      <td>16</td>\n",
              "    </tr>\n",
              "    <tr>\n",
              "      <th>60~70</th>\n",
              "      <td>18</td>\n",
              "    </tr>\n",
              "    <tr>\n",
              "      <th>70~80</th>\n",
              "      <td>6</td>\n",
              "    </tr>\n",
              "    <tr>\n",
              "      <th>80~90</th>\n",
              "      <td>0</td>\n",
              "    </tr>\n",
              "    <tr>\n",
              "      <th>90~100</th>\n",
              "      <td>0</td>\n",
              "    </tr>\n",
              "  </tbody>\n",
              "</table>\n",
              "</div>"
            ],
            "text/plain": [
              "        度数\n",
              "度数        \n",
              "0~10     0\n",
              "10~20    0\n",
              "20~30    0\n",
              "30~40    2\n",
              "40~50    8\n",
              "50~60   16\n",
              "60~70   18\n",
              "70~80    6\n",
              "80~90    0\n",
              "90~100   0"
            ]
          },
          "metadata": {},
          "execution_count": 15
        }
      ]
    },
    {
      "cell_type": "markdown",
      "metadata": {
        "id": "e-Ms2D__PZ7f"
      },
      "source": [
        "度数分布表は階級と度数以外にも階級値、相対度数、累積度数といった値が一緒に使われる。\n",
        "\n",
        "\n",
        "*   階級値：各階級を代表する値。階級の中央値が使われる\n",
        "*   相対度数：全データ数に対してその階級のデータが占める割合\n",
        "*   累積相対度数：その階級までの相対度数の和\n",
        "\n"
      ]
    },
    {
      "cell_type": "code",
      "metadata": {
        "colab": {
          "base_uri": "https://localhost:8080/"
        },
        "id": "wK-TgEf3Pkke",
        "outputId": "e46b11bf-c252-449f-d61b-08a67126d8df"
      },
      "source": [
        "# 階級値の例\n",
        "class_value = [(i+(i+10))//2 for i in range(0,100,10)]\n",
        "class_value"
      ],
      "execution_count": 16,
      "outputs": [
        {
          "output_type": "execute_result",
          "data": {
            "text/plain": [
              "[5, 15, 25, 35, 45, 55, 65, 75, 85, 95]"
            ]
          },
          "metadata": {},
          "execution_count": 16
        }
      ]
    },
    {
      "cell_type": "code",
      "metadata": {
        "colab": {
          "base_uri": "https://localhost:8080/"
        },
        "id": "0xreAg-9QUw3",
        "outputId": "478b69a7-98d8-49d6-eb1e-62f8de99aff3"
      },
      "source": [
        "# 相対度数の例\n",
        "rel_freq = freq / freq.sum()\n",
        "rel_freq"
      ],
      "execution_count": 17,
      "outputs": [
        {
          "output_type": "execute_result",
          "data": {
            "text/plain": [
              "array([0.  , 0.  , 0.  , 0.04, 0.16, 0.32, 0.36, 0.12, 0.  , 0.  ])"
            ]
          },
          "metadata": {},
          "execution_count": 17
        }
      ]
    },
    {
      "cell_type": "code",
      "metadata": {
        "colab": {
          "base_uri": "https://localhost:8080/"
        },
        "id": "6KRQOqvQQfJ7",
        "outputId": "095a8443-9738-411c-98be-35e9c0305b07"
      },
      "source": [
        "# 累積相対度数の例\n",
        "cum_rel_freq = np.cumsum(rel_freq)\n",
        "cum_rel_freq"
      ],
      "execution_count": 18,
      "outputs": [
        {
          "output_type": "execute_result",
          "data": {
            "text/plain": [
              "array([0.  , 0.  , 0.  , 0.04, 0.2 , 0.52, 0.88, 1.  , 1.  , 1.  ])"
            ]
          },
          "metadata": {},
          "execution_count": 18
        }
      ]
    },
    {
      "cell_type": "code",
      "metadata": {
        "colab": {
          "base_uri": "https://localhost:8080/",
          "height": 390
        },
        "id": "lw9-3wmBQq4y",
        "outputId": "55af908e-7200-4228-a525-4a7b203fd958"
      },
      "source": [
        "# 度数分布表に階級値、相対度数、累積相対度数を付け加える\n",
        "freq_dist_df['階級値'] = class_value\n",
        "freq_dist_df['相対度数'] = rel_freq\n",
        "freq_dist_df['累積相対度数'] = cum_rel_freq\n",
        "freq_dist_df = freq_dist_df[['階級値','度数','相対度数','累積相対度数']]\n",
        "freq_dist_df"
      ],
      "execution_count": 19,
      "outputs": [
        {
          "output_type": "execute_result",
          "data": {
            "text/html": [
              "<div>\n",
              "<style scoped>\n",
              "    .dataframe tbody tr th:only-of-type {\n",
              "        vertical-align: middle;\n",
              "    }\n",
              "\n",
              "    .dataframe tbody tr th {\n",
              "        vertical-align: top;\n",
              "    }\n",
              "\n",
              "    .dataframe thead th {\n",
              "        text-align: right;\n",
              "    }\n",
              "</style>\n",
              "<table border=\"1\" class=\"dataframe\">\n",
              "  <thead>\n",
              "    <tr style=\"text-align: right;\">\n",
              "      <th></th>\n",
              "      <th>階級値</th>\n",
              "      <th>度数</th>\n",
              "      <th>相対度数</th>\n",
              "      <th>累積相対度数</th>\n",
              "    </tr>\n",
              "    <tr>\n",
              "      <th>度数</th>\n",
              "      <th></th>\n",
              "      <th></th>\n",
              "      <th></th>\n",
              "      <th></th>\n",
              "    </tr>\n",
              "  </thead>\n",
              "  <tbody>\n",
              "    <tr>\n",
              "      <th>0~10</th>\n",
              "      <td>5</td>\n",
              "      <td>0</td>\n",
              "      <td>0.00</td>\n",
              "      <td>0.00</td>\n",
              "    </tr>\n",
              "    <tr>\n",
              "      <th>10~20</th>\n",
              "      <td>15</td>\n",
              "      <td>0</td>\n",
              "      <td>0.00</td>\n",
              "      <td>0.00</td>\n",
              "    </tr>\n",
              "    <tr>\n",
              "      <th>20~30</th>\n",
              "      <td>25</td>\n",
              "      <td>0</td>\n",
              "      <td>0.00</td>\n",
              "      <td>0.00</td>\n",
              "    </tr>\n",
              "    <tr>\n",
              "      <th>30~40</th>\n",
              "      <td>35</td>\n",
              "      <td>2</td>\n",
              "      <td>0.04</td>\n",
              "      <td>0.04</td>\n",
              "    </tr>\n",
              "    <tr>\n",
              "      <th>40~50</th>\n",
              "      <td>45</td>\n",
              "      <td>8</td>\n",
              "      <td>0.16</td>\n",
              "      <td>0.20</td>\n",
              "    </tr>\n",
              "    <tr>\n",
              "      <th>50~60</th>\n",
              "      <td>55</td>\n",
              "      <td>16</td>\n",
              "      <td>0.32</td>\n",
              "      <td>0.52</td>\n",
              "    </tr>\n",
              "    <tr>\n",
              "      <th>60~70</th>\n",
              "      <td>65</td>\n",
              "      <td>18</td>\n",
              "      <td>0.36</td>\n",
              "      <td>0.88</td>\n",
              "    </tr>\n",
              "    <tr>\n",
              "      <th>70~80</th>\n",
              "      <td>75</td>\n",
              "      <td>6</td>\n",
              "      <td>0.12</td>\n",
              "      <td>1.00</td>\n",
              "    </tr>\n",
              "    <tr>\n",
              "      <th>80~90</th>\n",
              "      <td>85</td>\n",
              "      <td>0</td>\n",
              "      <td>0.00</td>\n",
              "      <td>1.00</td>\n",
              "    </tr>\n",
              "    <tr>\n",
              "      <th>90~100</th>\n",
              "      <td>95</td>\n",
              "      <td>0</td>\n",
              "      <td>0.00</td>\n",
              "      <td>1.00</td>\n",
              "    </tr>\n",
              "  </tbody>\n",
              "</table>\n",
              "</div>"
            ],
            "text/plain": [
              "        階級値  度数  相対度数  累積相対度数\n",
              "度数                           \n",
              "0~10      5   0  0.00    0.00\n",
              "10~20    15   0  0.00    0.00\n",
              "20~30    25   0  0.00    0.00\n",
              "30~40    35   2  0.04    0.04\n",
              "40~50    45   8  0.16    0.20\n",
              "50~60    55  16  0.32    0.52\n",
              "60~70    65  18  0.36    0.88\n",
              "70~80    75   6  0.12    1.00\n",
              "80~90    85   0  0.00    1.00\n",
              "90~100   95   0  0.00    1.00"
            ]
          },
          "metadata": {},
          "execution_count": 19
        }
      ]
    },
    {
      "cell_type": "code",
      "metadata": {
        "colab": {
          "base_uri": "https://localhost:8080/"
        },
        "id": "YIzNgpATRgEB",
        "outputId": "e3f3d5fb-2f7b-41bd-db41-6b15d0882ef7"
      },
      "source": [
        "# 度数分布表から最頻値を求める\n",
        "freq_dist_df.loc[freq_dist_df['度数'].idxmax(), '階級値']"
      ],
      "execution_count": 20,
      "outputs": [
        {
          "output_type": "execute_result",
          "data": {
            "text/plain": [
              "65"
            ]
          },
          "metadata": {},
          "execution_count": 20
        }
      ]
    },
    {
      "cell_type": "markdown",
      "metadata": {
        "id": "TRUs56zJR5x_"
      },
      "source": [
        "## ヒストグラム\n",
        "ヒストグラム（histogram）：度数分布表を棒グラフで表したもの。\n",
        "Pythonでグラフを表示するときは標準ライブラリのMatplotlibを使用する。\n",
        "\n",
        "統計解析の3種の神器：Pandas/NumPy/Matplotlib"
      ]
    },
    {
      "cell_type": "code",
      "metadata": {
        "id": "6kA43sPOSY4m"
      },
      "source": [
        "# Matplotlibのpyplotモジュールをpltという名前でインポート\n",
        "import matplotlib.pyplot as plt\n",
        "\n",
        "#グラフがnotebook上に表示されるようにする\n",
        "%matplotlib inline"
      ],
      "execution_count": 21,
      "outputs": []
    },
    {
      "cell_type": "code",
      "metadata": {
        "colab": {
          "base_uri": "https://localhost:8080/",
          "height": 388
        },
        "id": "xOOhLUh1Sq6_",
        "outputId": "1a94d593-e4e5-493e-b63e-052d74e51959"
      },
      "source": [
        "# キャンバスを作る\n",
        "# figsizeで横・縦の大きさを指定\n",
        "fig = plt.figure(figsize=(10,6))\n",
        "# キャンバス上にグラフを描画するための領域を作る\n",
        "# 引数は領域を1×1個作り、1つめの領域に描画することを意味する\n",
        "ax = fig.add_subplot(111)\n",
        "\n",
        "# 階級数を10にしてヒストグラムを描画\n",
        "freq, _, _ = ax.hist(english_scores, bins=10, range=(0,100))\n",
        "# X軸にラベルをつける\n",
        "ax.set_xlabel('ScoreScore')\n",
        "# Y軸にラベルをつける\n",
        "ax.set_ylabel('Number of people')\n",
        "# X軸に0,10,20・・・100のメモリをふる\n",
        "ax.set_xticks(np.linspace(0,100, 10+1))\n",
        "# Y軸に0,1,2・・・のメモリをふる\n",
        "ax.set_yticks(np.arange(0,freq.max()+1))\n",
        "# グラフの表示\n",
        "plt.show()"
      ],
      "execution_count": 24,
      "outputs": [
        {
          "output_type": "display_data",
          "data": {
            "image/png": "[encoded data removed]",
            "text/plain": [
              "<Figure size 720x432 with 1 Axes>"
            ]
          },
          "metadata": {
            "needs_background": "light"
          }
        }
      ]
    },
    {
      "cell_type": "code",
      "metadata": {
        "colab": {
          "base_uri": "https://localhost:8080/",
          "height": 388
        },
        "id": "wF5ovCSwUVM-",
        "outputId": "d85d37e4-9c27-4f40-dc91-0d8ad9812b68"
      },
      "source": [
        "# 階級数を25（階級幅を4）に変更してヒストグラムを作成\n",
        "fig = plt.figure(figsize=(10,6))\n",
        "ax = fig.add_subplot(111)\n",
        "\n",
        "# 階級数を25にしてヒストグラムを描画\n",
        "freq, _, _ = ax.hist(english_scores, bins=25, range=(0,100))\n",
        "ax.set_xlabel('Score')\n",
        "ax.set_ylabel('Number of people')\n",
        "ax.set_xticks(np.linspace(0,100, 25+1))\n",
        "ax.set_yticks(np.arange(0,freq.max()+1))\n",
        "plt.show()"
      ],
      "execution_count": 25,
      "outputs": [
        {
          "output_type": "display_data",
          "data": {
            "image/png": "[encoded data removed]",
            "text/plain": [
              "<Figure size 720x432 with 1 Axes>"
            ]
          },
          "metadata": {
            "needs_background": "light"
          }
        }
      ]
    },
    {
      "cell_type": "code",
      "metadata": {
        "colab": {
          "base_uri": "https://localhost:8080/",
          "height": 388
        },
        "id": "fHB0AwD2U4J0",
        "outputId": "2f658a02-441f-4667-9c6b-b420c10f6b1b"
      },
      "source": [
        "#相対度数のヒストグラムを累積相対度数の折れ線グラフと一緒に描画する\n",
        "\n",
        "fig = plt.figure(figsize=(10,6))\n",
        "ax1 = fig.add_subplot(111)\n",
        "# Y軸のスケールが違うグラフをax1と同じ領域上に書けるようにする\n",
        "ax2 = ax1.twinx()\n",
        "\n",
        "# 相対度数のヒストグラムにするために、度数をデータの数で割る（histの引数weightを指定することで実現）\n",
        "weights = np.ones_like(english_scores) / len(english_scores)\n",
        "rel_freq, _, _ = ax1.hist(english_scores, bins=25, range=(0,100), weights=weights)\n",
        "cum_rel_freq = np.cumsum(rel_freq)\n",
        "class_value = [(i+(i+4))//2 for i in range(0,100,4)]\n",
        "# 折れ線グラフの描画\n",
        "# 引数lsを'--'にすることで線が点線に\n",
        "# 引数markerを'o'にすることでデータ点を丸に\n",
        "# 引数colorを'gray'にすることで灰色に\n",
        "ax2.plot(class_value, cum_rel_freq, ls='--', marker='o', color='gray')\n",
        "# 折れ線グラフの罫線を消去\n",
        "ax2.grid(visible = False)\n",
        "\n",
        "# 日本語フォントを入れてないので、\n",
        "# 相対度数：Relative frequency、累積相対度数：AccumulationRelative frequency\n",
        "ax1.set_xlabel('score')\n",
        "ax1.set_ylabel('Relative frequency')\n",
        "ax2.set_ylabel('AccumulationRelative frequency')\n",
        "ax1.set_xticks(np.linspace(0,100,25+1))\n",
        "\n",
        "plt.show()"
      ],
      "execution_count": 27,
      "outputs": [
        {
          "output_type": "display_data",
          "data": {
            "image/png": "[encoded data removed]",
            "text/plain": [
              "<Figure size 720x432 with 2 Axes>"
            ]
          },
          "metadata": {
            "needs_background": "light"
          }
        }
      ]
    },
    {
      "cell_type": "markdown",
      "metadata": {
        "id": "gk4AiH1hXoDE"
      },
      "source": [
        "## 箱ひげ図\n",
        "箱ひげ図（box plot）：データのばらつきを表現するための図\n",
        "\n",
        "４分位範囲のQ1,Q2,Q3,IQRを使う。\n",
        "\n",
        "箱はQ1からQ3を表す。ひげはQ1-1.5IQRからQ3+IQRを表す。\n",
        "そこに入らないデータは外れ値となる。"
      ]
    },
    {
      "cell_type": "code",
      "metadata": {
        "colab": {
          "base_uri": "https://localhost:8080/",
          "height": 374
        },
        "id": "N0h1cTqxYNTn",
        "outputId": "5a6d6b8c-a724-4ec8-cefa-8b2584e80c48"
      },
      "source": [
        "#箱ひげ図を用いる。boxplotメソッドを使って描画\n",
        "fig = plt.figure(figsize=(5,6))\n",
        "ax = fig.add_subplot(111)\n",
        "ax.boxplot(english_scores, labels=['English'])\n",
        "\n",
        "plt.show()"
      ],
      "execution_count": 30,
      "outputs": [
        {
          "output_type": "display_data",
          "data": {
            "image/png": "[encoded data removed]",
            "text/plain": [
              "<Figure size 360x432 with 1 Axes>"
            ]
          },
          "metadata": {
            "needs_background": "light"
          }
        }
      ]
    }
  ]
}