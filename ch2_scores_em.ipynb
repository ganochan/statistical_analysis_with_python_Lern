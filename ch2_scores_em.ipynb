{
  "nbformat": 4,
  "nbformat_minor": 0,
  "metadata": {
    "colab": {
      "name": "ch2_scores_em.ipynb",
      "provenance": [],
      "toc_visible": true,
      "mount_file_id": "1ipqGVt1j0IrjOviq9Ic6iMitHKAKjXIc",
      "authorship_tag": "ABX9TyMFXTG0pG8luNm183q2tloh",
      "include_colab_link": true
    },
    "kernelspec": {
      "name": "python3",
      "display_name": "Python 3"
    },
    "language_info": {
      "name": "python"
    }
  },
  "cells": [
    {
      "cell_type": "markdown",
      "metadata": {
        "id": "view-in-github",
        "colab_type": "text"
      },
      "source": [
        "<a href=\"https://colab.research.google.com/github/ganochan/statistical_analysis_with_python_Lern/blob/main/ch2_scores_em.ipynb\" target=\"_parent\"><img src=\"https://colab.research.google.com/assets/colab-badge.svg\" alt=\"Open In Colab\"/></a>"
      ]
    },
    {
      "cell_type": "markdown",
      "metadata": {
        "id": "oIabeyQo7s4y"
      },
      "source": [
        "# 一次元データの整理\n",
        "データの特徴をつかむ方法\n",
        "+ 数値の指標によってデータを要約する：平均や分散\n",
        "+ 視覚的にデータを俯瞰する：図示"
      ]
    },
    {
      "cell_type": "code",
      "metadata": {
        "id": "ftRZjsqN7Sb4"
      },
      "source": [
        "#セッションの準備\n",
        "import numpy as np\n",
        "import pandas as pd\n",
        "\n",
        "#Jupyter Notebookの出力を小数点以下3桁に抑える\n",
        "%precision 3\n",
        "\n",
        "#Dataframeの出力を小数点以下3桁に抑える\n",
        "pd.set_option('precision', 3)"
      ],
      "execution_count": 1,
      "outputs": []
    },
    {
      "cell_type": "code",
      "metadata": {
        "colab": {
          "base_uri": "https://localhost:8080/",
          "height": 235
        },
        "id": "EFOA18JA89Z0",
        "outputId": "efdafa0e-1ec9-44c3-c6b1-f022ecdc533a"
      },
      "source": [
        "#サンプルデータのインポート\n",
        "df = pd.read_csv('drive/MyDrive/python_stat_sample-data/ch2_scores_em.csv', index_col='生徒番号')\n",
        "\n",
        "#dfの最初の5行を表示\n",
        "df.head()"
      ],
      "execution_count": 2,
      "outputs": [
        {
          "output_type": "execute_result",
          "data": {
            "text/html": [
              "<div>\n",
              "<style scoped>\n",
              "    .dataframe tbody tr th:only-of-type {\n",
              "        vertical-align: middle;\n",
              "    }\n",
              "\n",
              "    .dataframe tbody tr th {\n",
              "        vertical-align: top;\n",
              "    }\n",
              "\n",
              "    .dataframe thead th {\n",
              "        text-align: right;\n",
              "    }\n",
              "</style>\n",
              "<table border=\"1\" class=\"dataframe\">\n",
              "  <thead>\n",
              "    <tr style=\"text-align: right;\">\n",
              "      <th></th>\n",
              "      <th>英語</th>\n",
              "      <th>数学</th>\n",
              "    </tr>\n",
              "    <tr>\n",
              "      <th>生徒番号</th>\n",
              "      <th></th>\n",
              "      <th></th>\n",
              "    </tr>\n",
              "  </thead>\n",
              "  <tbody>\n",
              "    <tr>\n",
              "      <th>1</th>\n",
              "      <td>42</td>\n",
              "      <td>65</td>\n",
              "    </tr>\n",
              "    <tr>\n",
              "      <th>2</th>\n",
              "      <td>69</td>\n",
              "      <td>80</td>\n",
              "    </tr>\n",
              "    <tr>\n",
              "      <th>3</th>\n",
              "      <td>56</td>\n",
              "      <td>63</td>\n",
              "    </tr>\n",
              "    <tr>\n",
              "      <th>4</th>\n",
              "      <td>41</td>\n",
              "      <td>63</td>\n",
              "    </tr>\n",
              "    <tr>\n",
              "      <th>5</th>\n",
              "      <td>57</td>\n",
              "      <td>76</td>\n",
              "    </tr>\n",
              "  </tbody>\n",
              "</table>\n",
              "</div>"
            ],
            "text/plain": [
              "      英語  数学\n",
              "生徒番号        \n",
              "1     42  65\n",
              "2     69  80\n",
              "3     56  63\n",
              "4     41  63\n",
              "5     57  76"
            ]
          },
          "metadata": {},
          "execution_count": 2
        }
      ]
    },
    {
      "cell_type": "markdown",
      "metadata": {
        "id": "Zu_YfYCl9wV4"
      },
      "source": [
        "# NumpyとPandasでデータを使えるようにする\n",
        "\n",
        "生徒番号順で10人の英語の点数を使う。このデータをNumpyで計算するために、arrayというデータ構造にしてscoresという名前で保存する。\n",
        "\n",
        "- array は数値計算に強い高機能な多次元配列"
      ]
    },
    {
      "cell_type": "code",
      "metadata": {
        "colab": {
          "base_uri": "https://localhost:8080/"
        },
        "id": "-hnZtpoI9tRK",
        "outputId": "fa9dc99a-6e14-40cb-d992-b2f1ed77b015"
      },
      "source": [
        "scores = np.array(df['英語'])[:10]\n",
        "scores"
      ],
      "execution_count": 8,
      "outputs": [
        {
          "output_type": "execute_result",
          "data": {
            "text/plain": [
              "array([42, 69, 56, 41, 57, 48, 65, 49, 65, 58])"
            ]
          },
          "metadata": {},
          "execution_count": 8
        }
      ]
    },
    {
      "cell_type": "markdown",
      "metadata": {
        "id": "WHYWXJD0_Bmz"
      },
      "source": [
        "Numpyと同じように、PandasのDataFrameを作る。DataFrameには10人の生徒それぞれに、Aさん、Bさん・・・と名前をつけておく。"
      ]
    },
    {
      "cell_type": "code",
      "metadata": {
        "colab": {
          "base_uri": "https://localhost:8080/",
          "height": 390
        },
        "id": "sO2-rJoe-_qR",
        "outputId": "6cf2d026-42d8-404c-9f92-30ada6447199"
      },
      "source": [
        "scores_df = pd.DataFrame({'点数':scores},index = pd.Index(['A','B','C','D','E','F','G','H','I','J'],name = '生徒'))\n",
        "scores_df"
      ],
      "execution_count": 9,
      "outputs": [
        {
          "output_type": "execute_result",
          "data": {
            "text/html": [
              "<div>\n",
              "<style scoped>\n",
              "    .dataframe tbody tr th:only-of-type {\n",
              "        vertical-align: middle;\n",
              "    }\n",
              "\n",
              "    .dataframe tbody tr th {\n",
              "        vertical-align: top;\n",
              "    }\n",
              "\n",
              "    .dataframe thead th {\n",
              "        text-align: right;\n",
              "    }\n",
              "</style>\n",
              "<table border=\"1\" class=\"dataframe\">\n",
              "  <thead>\n",
              "    <tr style=\"text-align: right;\">\n",
              "      <th></th>\n",
              "      <th>点数</th>\n",
              "    </tr>\n",
              "    <tr>\n",
              "      <th>生徒</th>\n",
              "      <th></th>\n",
              "    </tr>\n",
              "  </thead>\n",
              "  <tbody>\n",
              "    <tr>\n",
              "      <th>A</th>\n",
              "      <td>42</td>\n",
              "    </tr>\n",
              "    <tr>\n",
              "      <th>B</th>\n",
              "      <td>69</td>\n",
              "    </tr>\n",
              "    <tr>\n",
              "      <th>C</th>\n",
              "      <td>56</td>\n",
              "    </tr>\n",
              "    <tr>\n",
              "      <th>D</th>\n",
              "      <td>41</td>\n",
              "    </tr>\n",
              "    <tr>\n",
              "      <th>E</th>\n",
              "      <td>57</td>\n",
              "    </tr>\n",
              "    <tr>\n",
              "      <th>F</th>\n",
              "      <td>48</td>\n",
              "    </tr>\n",
              "    <tr>\n",
              "      <th>G</th>\n",
              "      <td>65</td>\n",
              "    </tr>\n",
              "    <tr>\n",
              "      <th>H</th>\n",
              "      <td>49</td>\n",
              "    </tr>\n",
              "    <tr>\n",
              "      <th>I</th>\n",
              "      <td>65</td>\n",
              "    </tr>\n",
              "    <tr>\n",
              "      <th>J</th>\n",
              "      <td>58</td>\n",
              "    </tr>\n",
              "  </tbody>\n",
              "</table>\n",
              "</div>"
            ],
            "text/plain": [
              "    点数\n",
              "生徒    \n",
              "A   42\n",
              "B   69\n",
              "C   56\n",
              "D   41\n",
              "E   57\n",
              "F   48\n",
              "G   65\n",
              "H   49\n",
              "I   65\n",
              "J   58"
            ]
          },
          "metadata": {},
          "execution_count": 9
        }
      ]
    },
    {
      "cell_type": "markdown",
      "metadata": {
        "id": "7oZkf4NR3feG"
      },
      "source": [
        "## データの中心の指標\n",
        "データの中心を表す指標（データを一つの値で要約するならばこれ）＝代表値\n",
        "# 平均値\n",
        "平均値（mean）"
      ]
    },
    {
      "cell_type": "code",
      "metadata": {
        "colab": {
          "base_uri": "https://localhost:8080/"
        },
        "id": "7YDzngd73uPk",
        "outputId": "fa5235b0-4ff6-4c97-98a1-02c84be8573b"
      },
      "source": [
        "#定義に基づき、Pythonで実直に書く\n",
        "sum(scores) / len(scores)"
      ],
      "execution_count": null,
      "outputs": [
        {
          "output_type": "execute_result",
          "data": {
            "text/plain": [
              "55.000"
            ]
          },
          "metadata": {},
          "execution_count": 5
        }
      ]
    },
    {
      "cell_type": "code",
      "metadata": {
        "colab": {
          "base_uri": "https://localhost:8080/"
        },
        "id": "fp__89Pq4eBC",
        "outputId": "cf786ddd-9a29-4fcb-bbda-4cc3cadb8e94"
      },
      "source": [
        "#NumPyの関数（mean）を使う\n",
        "np.mean(scores)"
      ],
      "execution_count": null,
      "outputs": [
        {
          "output_type": "execute_result",
          "data": {
            "text/plain": [
              "55.000"
            ]
          },
          "metadata": {},
          "execution_count": 6
        }
      ]
    },
    {
      "cell_type": "code",
      "metadata": {
        "colab": {
          "base_uri": "https://localhost:8080/"
        },
        "id": "aqQLCcTv44cz",
        "outputId": "f30389d6-95d5-4164-ec11-7411e8f6c48c"
      },
      "source": [
        "#Dataframeのmeanメソッドを使って平均を求める\n",
        "scores_df.mean()"
      ],
      "execution_count": null,
      "outputs": [
        {
          "output_type": "execute_result",
          "data": {
            "text/plain": [
              "点数    55.0\n",
              "dtype: float64"
            ]
          },
          "metadata": {},
          "execution_count": 9
        }
      ]
    },
    {
      "cell_type": "markdown",
      "metadata": {
        "id": "iQv3mDEu529q"
      },
      "source": [
        "# 中央値\n",
        "中央値（median）：データの大きさの順に並べたときにちょうど中央に位置する値\n",
        "\n",
        "中央値は平均値に比べて外れ値に強い。\n",
        "\n",
        "データの数が偶数の場合は中央値はそれら二つの値の平均値と定義される。\n",
        "\n",
        "中央値の定義\n",
        "\n",
        "\n",
        "*   データ数nが奇数なら、（n+1)/2番目のデータが中央値\n",
        "*   データ数nが偶数なら、n/2番目のデータとn/2+1番目のデータの平均が中央値\n",
        "\n"
      ]
    },
    {
      "cell_type": "code",
      "metadata": {
        "colab": {
          "base_uri": "https://localhost:8080/"
        },
        "id": "cqU0_HTd6ImC",
        "outputId": "db5cf9b5-e0e3-4ae4-b005-0ac3d96fdd2c"
      },
      "source": [
        "#scores内の点数を大きさの順番に並べる\n",
        "sorted_scores = np.sort(scores)\n",
        "sorted_scores"
      ],
      "execution_count": null,
      "outputs": [
        {
          "output_type": "execute_result",
          "data": {
            "text/plain": [
              "array([41, 42, 48, 49, 56, 57, 58, 65, 65, 69])"
            ]
          },
          "metadata": {},
          "execution_count": 10
        }
      ]
    },
    {
      "cell_type": "code",
      "metadata": {
        "colab": {
          "base_uri": "https://localhost:8080/"
        },
        "id": "KAJpnwly7Ze-",
        "outputId": "2cbd0cc4-c2ce-451d-f7fd-283c7778c920"
      },
      "source": [
        "#中央値の定義をPythonのコードに落とす。リストのインデックスは0はじまりであるため、定義とは１ずれることに注意\n",
        "n = len(sorted_scores)\n",
        "if n % 2 == 0: #偶奇を判定（偶数ならifの中へ）\n",
        "    m0 = sorted_scores[n//2 - 1] #中央値の前の値\n",
        "    m1 = sorted_scores[n//2] #中央値の後の値\n",
        "    median = (m0 + m1) / 2\n",
        "else:\n",
        "    median = sorted_scores[(n + 1)// - 1]\n",
        "median"
      ],
      "execution_count": null,
      "outputs": [
        {
          "output_type": "execute_result",
          "data": {
            "text/plain": [
              "56.500"
            ]
          },
          "metadata": {},
          "execution_count": 11
        }
      ]
    },
    {
      "cell_type": "code",
      "metadata": {
        "colab": {
          "base_uri": "https://localhost:8080/"
        },
        "id": "sYAdtVzb8u44",
        "outputId": "f7b9b7c0-068a-47f2-d5dd-0846dceb38fe"
      },
      "source": [
        "#Numpyのmedian関数を使って中央値を計算(sortが含まれる)\n",
        "np.median(scores)"
      ],
      "execution_count": null,
      "outputs": [
        {
          "output_type": "execute_result",
          "data": {
            "text/plain": [
              "56.500"
            ]
          },
          "metadata": {},
          "execution_count": 12
        }
      ]
    },
    {
      "cell_type": "code",
      "metadata": {
        "colab": {
          "base_uri": "https://localhost:8080/"
        },
        "id": "ICN_3RCF9Dh3",
        "outputId": "310a9881-d74d-4247-f0eb-608fa9caa56d"
      },
      "source": [
        "#DataframeやSeriesの場合、medianメソッドが利用可能\n",
        "scores_df.median()"
      ],
      "execution_count": null,
      "outputs": [
        {
          "output_type": "execute_result",
          "data": {
            "text/plain": [
              "点数    56.5\n",
              "dtype: float64"
            ]
          },
          "metadata": {},
          "execution_count": 13
        }
      ]
    },
    {
      "cell_type": "markdown",
      "metadata": {
        "id": "J6FBSBYn9i8K"
      },
      "source": [
        "# 最頻値\n",
        "最頻値（mode）:データ内で最も多く出現する値\n",
        "\n",
        "DataFrameやSeriesのmodeメソッドを利用する\n",
        "\n",
        "最頻値は質的データの代表値を求めるときに使う指標。テストの点数のような量的データについて最頻値を求めようとしても、まったく同じ点数が出ている頻度が少なく、一意に定まらないことが多い。"
      ]
    },
    {
      "cell_type": "code",
      "metadata": {
        "colab": {
          "base_uri": "https://localhost:8080/"
        },
        "id": "a4deTO-H-JbM",
        "outputId": "f4ab4891-279b-4e78-d8f9-360e8aba82c7"
      },
      "source": [
        "#PandasのSeriesの中に含まれる6個の要素のmodeをとる。\n",
        "pd.Series([1,1,1,2,2,3,]).mode()"
      ],
      "execution_count": null,
      "outputs": [
        {
          "output_type": "execute_result",
          "data": {
            "text/plain": [
              "0    1\n",
              "dtype: int64"
            ]
          },
          "metadata": {},
          "execution_count": 14
        }
      ]
    },
    {
      "cell_type": "code",
      "metadata": {
        "colab": {
          "base_uri": "https://localhost:8080/"
        },
        "id": "Zib166lk-rY-",
        "outputId": "008e2d7b-880e-4a13-cffb-441df39062e2"
      },
      "source": [
        "#最頻値が一意に定まらない例（要素が全部表示されてしまう）\n",
        "pd.Series([1,2,3,4,5]).mode()"
      ],
      "execution_count": null,
      "outputs": [
        {
          "output_type": "execute_result",
          "data": {
            "text/plain": [
              "0    1\n",
              "1    2\n",
              "2    3\n",
              "3    4\n",
              "4    5\n",
              "dtype: int64"
            ]
          },
          "metadata": {},
          "execution_count": 15
        }
      ]
    },
    {
      "cell_type": "markdown",
      "metadata": {
        "id": "-VYFzTLA_x3T"
      },
      "source": [
        "## データのばらつきの指標\n",
        "平均値や中央値によって、データを代表する値は得られる。しかしクラス全員が50点のテストとクラスの半分が0点、残りが100点のテストでも平均点と中央値は50点となる。データのばらつきを数値で表現する方法を理解する\n",
        "\n",
        "# 分散と標準偏差\n",
        "偏差（deviation）：各データが平均からどれだけ離れているか"
      ]
    },
    {
      "cell_type": "code",
      "metadata": {
        "colab": {
          "base_uri": "https://localhost:8080/"
        },
        "id": "9ugDBpwoA4fR",
        "outputId": "2a134983-702a-416e-c76a-634327881612"
      },
      "source": [
        "#NumPyのブロードキャストという機能を用いて、各生徒の偏差を求める\n",
        "mean = np.mean(scores) # scoresの平均値を求める\n",
        "deviation = scores - mean # scores内の値がそれぞれ平均とどれだけ離れているかを求める\n",
        "deviation"
      ],
      "execution_count": null,
      "outputs": [
        {
          "output_type": "execute_result",
          "data": {
            "text/plain": [
              "array([-13.,  14.,   1., -14.,   2.,  -7.,  10.,  -6.,  10.,   3.])"
            ]
          },
          "metadata": {},
          "execution_count": 17
        }
      ]
    },
    {
      "cell_type": "code",
      "metadata": {
        "colab": {
          "base_uri": "https://localhost:8080/"
        },
        "id": "qHjCVL-cCjfo",
        "outputId": "2c023c61-4a87-4305-e542-ac36d6534f1b"
      },
      "source": [
        "#10人が受けた別のテストの偏差も求める\n",
        "another_scores = [50, 60, 58, 54, 51, 56, 57, 53, 52, 59]\n",
        "another_mean = np.mean(another_scores)\n",
        "another_deviation = another_scores - another_mean\n",
        "another_deviation"
      ],
      "execution_count": null,
      "outputs": [
        {
          "output_type": "execute_result",
          "data": {
            "text/plain": [
              "array([-5.,  5.,  3., -1., -4.,  1.,  2., -2., -3.,  4.])"
            ]
          },
          "metadata": {},
          "execution_count": 19
        }
      ]
    },
    {
      "cell_type": "markdown",
      "metadata": {
        "id": "tXeiLiDFDGt7"
      },
      "source": [
        "scoreとanother_scoreではscoreのほうが、点数のばらつきが大きいように見える。\n",
        "\n",
        "偏差を代表値として一つの値にまとめることはできない。（偏差の平均は常に０になる）"
      ]
    },
    {
      "cell_type": "code",
      "metadata": {
        "colab": {
          "base_uri": "https://localhost:8080/"
        },
        "id": "ZQeWzXAHDfoM",
        "outputId": "3319ff01-e36b-4320-c62f-e6151fde9a13"
      },
      "source": [
        "#deviation（scoresの偏差）の平均を表示する\n",
        "np.mean(deviation)"
      ],
      "execution_count": null,
      "outputs": [
        {
          "output_type": "execute_result",
          "data": {
            "text/plain": [
              "0.000"
            ]
          },
          "metadata": {},
          "execution_count": 20
        }
      ]
    },
    {
      "cell_type": "code",
      "metadata": {
        "id": "3bJJNc2mET4Z"
      },
      "source": [
        "#another_deviation(another_scoresの偏差）の平均を表示する\n",
        "np.mean(another_deviation)"
      ],
      "execution_count": null,
      "outputs": []
    },
    {
      "cell_type": "code",
      "metadata": {
        "colab": {
          "base_uri": "https://localhost:8080/",
          "height": 390
        },
        "id": "LhRxZMGSEaFx",
        "outputId": "6d6a8a74-e37a-420a-b8e3-5099f4a7bf0a"
      },
      "source": [
        "#DataFrameを使ってまとめると\n",
        "summary_df = scores_df.copy()\n",
        "summary_df['偏差'] = deviation\n",
        "summary_df"
      ],
      "execution_count": null,
      "outputs": [
        {
          "output_type": "execute_result",
          "data": {
            "text/html": [
              "<div>\n",
              "<style scoped>\n",
              "    .dataframe tbody tr th:only-of-type {\n",
              "        vertical-align: middle;\n",
              "    }\n",
              "\n",
              "    .dataframe tbody tr th {\n",
              "        vertical-align: top;\n",
              "    }\n",
              "\n",
              "    .dataframe thead th {\n",
              "        text-align: right;\n",
              "    }\n",
              "</style>\n",
              "<table border=\"1\" class=\"dataframe\">\n",
              "  <thead>\n",
              "    <tr style=\"text-align: right;\">\n",
              "      <th></th>\n",
              "      <th>点数</th>\n",
              "      <th>偏差</th>\n",
              "    </tr>\n",
              "    <tr>\n",
              "      <th>生徒</th>\n",
              "      <th></th>\n",
              "      <th></th>\n",
              "    </tr>\n",
              "  </thead>\n",
              "  <tbody>\n",
              "    <tr>\n",
              "      <th>A</th>\n",
              "      <td>42</td>\n",
              "      <td>-13.0</td>\n",
              "    </tr>\n",
              "    <tr>\n",
              "      <th>B</th>\n",
              "      <td>69</td>\n",
              "      <td>14.0</td>\n",
              "    </tr>\n",
              "    <tr>\n",
              "      <th>C</th>\n",
              "      <td>56</td>\n",
              "      <td>1.0</td>\n",
              "    </tr>\n",
              "    <tr>\n",
              "      <th>D</th>\n",
              "      <td>41</td>\n",
              "      <td>-14.0</td>\n",
              "    </tr>\n",
              "    <tr>\n",
              "      <th>E</th>\n",
              "      <td>57</td>\n",
              "      <td>2.0</td>\n",
              "    </tr>\n",
              "    <tr>\n",
              "      <th>F</th>\n",
              "      <td>48</td>\n",
              "      <td>-7.0</td>\n",
              "    </tr>\n",
              "    <tr>\n",
              "      <th>G</th>\n",
              "      <td>65</td>\n",
              "      <td>10.0</td>\n",
              "    </tr>\n",
              "    <tr>\n",
              "      <th>H</th>\n",
              "      <td>49</td>\n",
              "      <td>-6.0</td>\n",
              "    </tr>\n",
              "    <tr>\n",
              "      <th>I</th>\n",
              "      <td>65</td>\n",
              "      <td>10.0</td>\n",
              "    </tr>\n",
              "    <tr>\n",
              "      <th>J</th>\n",
              "      <td>58</td>\n",
              "      <td>3.0</td>\n",
              "    </tr>\n",
              "  </tbody>\n",
              "</table>\n",
              "</div>"
            ],
            "text/plain": [
              "    点数    偏差\n",
              "生徒          \n",
              "A   42 -13.0\n",
              "B   69  14.0\n",
              "C   56   1.0\n",
              "D   41 -14.0\n",
              "E   57   2.0\n",
              "F   48  -7.0\n",
              "G   65  10.0\n",
              "H   49  -6.0\n",
              "I   65  10.0\n",
              "J   58   3.0"
            ]
          },
          "metadata": {},
          "execution_count": 24
        }
      ]
    },
    {
      "cell_type": "code",
      "metadata": {
        "colab": {
          "base_uri": "https://localhost:8080/"
        },
        "id": "KzmB0PuiFyX-",
        "outputId": "a373802a-cd69-4eba-efb0-d6998bb86c4f"
      },
      "source": [
        "summary_df.mean()"
      ],
      "execution_count": null,
      "outputs": [
        {
          "output_type": "execute_result",
          "data": {
            "text/plain": [
              "点数    55.0\n",
              "偏差     0.0\n",
              "dtype: float64"
            ]
          },
          "metadata": {},
          "execution_count": 25
        }
      ]
    },
    {
      "cell_type": "markdown",
      "metadata": {
        "id": "isP035haF7Gt"
      },
      "source": [
        "分散（variance）：偏差の二乗の平均"
      ]
    },
    {
      "cell_type": "code",
      "metadata": {
        "colab": {
          "base_uri": "https://localhost:8080/"
        },
        "id": "eac47QTPGLcF",
        "outputId": "8a70e7bd-f116-48ff-f5db-01d5245020b0"
      },
      "source": [
        "#分散の定義をPythonで落とす\n",
        "np.mean(deviation ** 2) #deviation（偏差）の二乗（** 2）の平均（.mean）を求める"
      ],
      "execution_count": null,
      "outputs": [
        {
          "output_type": "execute_result",
          "data": {
            "text/plain": [
              "86.000"
            ]
          },
          "metadata": {},
          "execution_count": 26
        }
      ]
    },
    {
      "cell_type": "code",
      "metadata": {
        "colab": {
          "base_uri": "https://localhost:8080/"
        },
        "id": "dvE4XYfWGh7o",
        "outputId": "1aee1f9c-6018-42a0-bad5-3a890e7b3c48"
      },
      "source": [
        "#NumPyで分散を求める\n",
        "np.var(scores)"
      ],
      "execution_count": null,
      "outputs": [
        {
          "output_type": "execute_result",
          "data": {
            "text/plain": [
              "86.000"
            ]
          },
          "metadata": {},
          "execution_count": 27
        }
      ]
    },
    {
      "cell_type": "markdown",
      "metadata": {
        "id": "HPDGAlAkGyYy"
      },
      "source": [
        "DataFrameやSeriesにもvarメソッドが存在するが、NumPyで求めたものとは異なる。\n",
        "Pandasで計算される分散は違う値となってしまうことに注意。\n",
        "\n",
        "\n",
        "\n",
        "*   標本分散：Numpyのデフォルト（本書の分散ではこちらを利用）\n",
        "*   不偏分散：Pandasのデフォルト（推測統計において重要な役割を持つ指標）\n",
        "\n"
      ]
    },
    {
      "cell_type": "code",
      "metadata": {
        "colab": {
          "base_uri": "https://localhost:8080/"
        },
        "id": "nOpdp1gGG706",
        "outputId": "c955fa1d-6831-437d-9572-a278a4cfba93"
      },
      "source": [
        "scores_df.var()"
      ],
      "execution_count": null,
      "outputs": [
        {
          "output_type": "execute_result",
          "data": {
            "text/plain": [
              "点数    95.556\n",
              "dtype: float64"
            ]
          },
          "metadata": {},
          "execution_count": 32
        }
      ]
    },
    {
      "cell_type": "code",
      "metadata": {
        "colab": {
          "base_uri": "https://localhost:8080/",
          "height": 390
        },
        "id": "35R1f7neIBCg",
        "outputId": "2a413d35-1c87-4bce-af94-8227db49b7b4"
      },
      "source": [
        "#summry_dfに偏差二乗の列を追加しておく\n",
        "summary_df[('偏差二乗')] = np.square(deviation)\n",
        "summary_df"
      ],
      "execution_count": null,
      "outputs": [
        {
          "output_type": "execute_result",
          "data": {
            "text/html": [
              "<div>\n",
              "<style scoped>\n",
              "    .dataframe tbody tr th:only-of-type {\n",
              "        vertical-align: middle;\n",
              "    }\n",
              "\n",
              "    .dataframe tbody tr th {\n",
              "        vertical-align: top;\n",
              "    }\n",
              "\n",
              "    .dataframe thead th {\n",
              "        text-align: right;\n",
              "    }\n",
              "</style>\n",
              "<table border=\"1\" class=\"dataframe\">\n",
              "  <thead>\n",
              "    <tr style=\"text-align: right;\">\n",
              "      <th></th>\n",
              "      <th>点数</th>\n",
              "      <th>偏差</th>\n",
              "      <th>偏差二乗</th>\n",
              "    </tr>\n",
              "    <tr>\n",
              "      <th>生徒</th>\n",
              "      <th></th>\n",
              "      <th></th>\n",
              "      <th></th>\n",
              "    </tr>\n",
              "  </thead>\n",
              "  <tbody>\n",
              "    <tr>\n",
              "      <th>A</th>\n",
              "      <td>42</td>\n",
              "      <td>-13.0</td>\n",
              "      <td>169.0</td>\n",
              "    </tr>\n",
              "    <tr>\n",
              "      <th>B</th>\n",
              "      <td>69</td>\n",
              "      <td>14.0</td>\n",
              "      <td>196.0</td>\n",
              "    </tr>\n",
              "    <tr>\n",
              "      <th>C</th>\n",
              "      <td>56</td>\n",
              "      <td>1.0</td>\n",
              "      <td>1.0</td>\n",
              "    </tr>\n",
              "    <tr>\n",
              "      <th>D</th>\n",
              "      <td>41</td>\n",
              "      <td>-14.0</td>\n",
              "      <td>196.0</td>\n",
              "    </tr>\n",
              "    <tr>\n",
              "      <th>E</th>\n",
              "      <td>57</td>\n",
              "      <td>2.0</td>\n",
              "      <td>4.0</td>\n",
              "    </tr>\n",
              "    <tr>\n",
              "      <th>F</th>\n",
              "      <td>48</td>\n",
              "      <td>-7.0</td>\n",
              "      <td>49.0</td>\n",
              "    </tr>\n",
              "    <tr>\n",
              "      <th>G</th>\n",
              "      <td>65</td>\n",
              "      <td>10.0</td>\n",
              "      <td>100.0</td>\n",
              "    </tr>\n",
              "    <tr>\n",
              "      <th>H</th>\n",
              "      <td>49</td>\n",
              "      <td>-6.0</td>\n",
              "      <td>36.0</td>\n",
              "    </tr>\n",
              "    <tr>\n",
              "      <th>I</th>\n",
              "      <td>65</td>\n",
              "      <td>10.0</td>\n",
              "      <td>100.0</td>\n",
              "    </tr>\n",
              "    <tr>\n",
              "      <th>J</th>\n",
              "      <td>58</td>\n",
              "      <td>3.0</td>\n",
              "      <td>9.0</td>\n",
              "    </tr>\n",
              "  </tbody>\n",
              "</table>\n",
              "</div>"
            ],
            "text/plain": [
              "    点数    偏差   偏差二乗\n",
              "生徒                 \n",
              "A   42 -13.0  169.0\n",
              "B   69  14.0  196.0\n",
              "C   56   1.0    1.0\n",
              "D   41 -14.0  196.0\n",
              "E   57   2.0    4.0\n",
              "F   48  -7.0   49.0\n",
              "G   65  10.0  100.0\n",
              "H   49  -6.0   36.0\n",
              "I   65  10.0  100.0\n",
              "J   58   3.0    9.0"
            ]
          },
          "metadata": {},
          "execution_count": 33
        }
      ]
    },
    {
      "cell_type": "code",
      "metadata": {
        "colab": {
          "base_uri": "https://localhost:8080/"
        },
        "id": "KUxjHHYGIcYf",
        "outputId": "a454aadd-3e06-4c35-bd75-98e6090cb0dc"
      },
      "source": [
        "summary_df.mean()\n",
        "#偏差二乗の列の平均をとると分散の値になる"
      ],
      "execution_count": null,
      "outputs": [
        {
          "output_type": "execute_result",
          "data": {
            "text/plain": [
              "点数      55.0\n",
              "偏差       0.0\n",
              "偏差二乗    86.0\n",
              "dtype: float64"
            ]
          },
          "metadata": {},
          "execution_count": 34
        }
      ]
    },
    {
      "cell_type": "markdown",
      "metadata": {
        "id": "eEoR9iS3ekSY"
      },
      "source": [
        "標準偏差：分散のルートをとった値"
      ]
    },
    {
      "cell_type": "code",
      "metadata": {
        "colab": {
          "base_uri": "https://localhost:8080/"
        },
        "id": "eIZOZaUdesyD",
        "outputId": "3af86f8b-3e93-4747-b585-3d8c13460346"
      },
      "source": [
        "#分散のルートをとる\n",
        "np.sqrt(np.var(scores, ddof=0))"
      ],
      "execution_count": null,
      "outputs": [
        {
          "output_type": "execute_result",
          "data": {
            "text/plain": [
              "9.274"
            ]
          },
          "metadata": {},
          "execution_count": 35
        }
      ]
    },
    {
      "cell_type": "markdown",
      "metadata": {
        "id": "WbfgiEm8IXd4"
      },
      "source": [
        "# 範囲と四分位範囲\n",
        "範囲（range）:データの最大値と最小値だけでばらつきを表現する\n",
        "\n",
        "最大値と最小値の差が大きければ、ばらつきが大きく、小さければばらつきも小さいという考え方。大雑把な指標で外れ値に弱い。"
      ]
    },
    {
      "cell_type": "code",
      "metadata": {
        "colab": {
          "base_uri": "https://localhost:8080/"
        },
        "id": "T6f8VLR1Ixdy",
        "outputId": "54eccb19-deed-48e9-9448-99ae634ec5db"
      },
      "source": [
        "#数式とPythonを使った実装\n",
        "np.max(scores) - np.min(scores)"
      ],
      "execution_count": 5,
      "outputs": [
        {
          "output_type": "execute_result",
          "data": {
            "text/plain": [
              "28"
            ]
          },
          "metadata": {},
          "execution_count": 5
        }
      ]
    },
    {
      "cell_type": "markdown",
      "metadata": {
        "id": "TqfBpiJGJD_R"
      },
      "source": [
        "四分位範囲（interquartile range）：データの下位25%（Q1:第1四分位）、50%（Q2:第2四分位）,75%（Q3:第3四分位）に位置する値に注目する。そして四分位範囲（IQR=Q3-Q1）として定義する。"
      ]
    },
    {
      "cell_type": "code",
      "metadata": {
        "colab": {
          "base_uri": "https://localhost:8080/"
        },
        "id": "Jbc5m7xmKGTz",
        "outputId": "4f48a4fd-6687-4402-a367-26c8996236d4"
      },
      "source": [
        "# scoresのIQRを求める。データの25%点などはNumPyのpercentileという関数で求める\n",
        "scores_Q1 = np.percentile(scores, 25)\n",
        "scores_Q3 = np.percentile(scores, 75)\n",
        "scores_IQR = scores_Q3 - scores_Q1\n",
        "scores_IQR"
      ],
      "execution_count": 11,
      "outputs": [
        {
          "output_type": "execute_result",
          "data": {
            "text/plain": [
              "15.000"
            ]
          },
          "metadata": {},
          "execution_count": 11
        }
      ]
    },
    {
      "cell_type": "markdown",
      "metadata": {
        "id": "O0nGhF6CLPP9"
      },
      "source": [
        "IQRを求める際に使わなかったQ2は中央値に一致する。IQRは中央値に対して定義されるばらつきの指標と解釈する。\n",
        "\n",
        "Q1,Q2,Q3,IQRは箱ひげ図という図示方法でも使う。"
      ]
    },
    {
      "cell_type": "code",
      "metadata": {
        "colab": {
          "base_uri": "https://localhost:8080/"
        },
        "id": "_Run_EvQMFMj",
        "outputId": "ce21f387-0303-4d8b-bab1-103710e67e28"
      },
      "source": [
        "#describe関数を使って、DatafremeやSeriesの様々なデータ指標を一度に求める\n",
        "pd.Series(scores).describe()"
      ],
      "execution_count": 12,
      "outputs": [
        {
          "output_type": "execute_result",
          "data": {
            "text/plain": [
              "count    10.000\n",
              "mean     55.000\n",
              "std       9.775\n",
              "min      41.000\n",
              "25%      48.250\n",
              "50%      56.500\n",
              "75%      63.250\n",
              "max      69.000\n",
              "dtype: float64"
            ]
          },
          "metadata": {},
          "execution_count": 12
        }
      ]
    }
  ]
}