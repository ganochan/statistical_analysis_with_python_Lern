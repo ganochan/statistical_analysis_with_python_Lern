{
  "nbformat": 4,
  "nbformat_minor": 0,
  "metadata": {
    "colab": {
      "name": "cha3_scores_em.ipynb",
      "provenance": [],
      "mount_file_id": "1bNGhvI3l1QiSI7GG8bnSfRWyWjqKJBp3",
      "authorship_tag": "ABX9TyMUpAgxeDhmocCuw5vmRBtF",
      "include_colab_link": true
    },
    "kernelspec": {
      "name": "python3",
      "display_name": "Python 3"
    },
    "language_info": {
      "name": "python"
    }
  },
  "cells": [
    {
      "cell_type": "markdown",
      "metadata": {
        "id": "view-in-github",
        "colab_type": "text"
      },
      "source": [
        "<a href=\"https://colab.research.google.com/github/ganochan/statistical_analysis_with_python_Lern/blob/main/cha3_scores_em.ipynb\" target=\"_parent\"><img src=\"https://colab.research.google.com/assets/colab-badge.svg\" alt=\"Open In Colab\"/></a>"
      ]
    },
    {
      "cell_type": "markdown",
      "metadata": {
        "id": "QmDrLh-harfR"
      },
      "source": [
        "# 2次元データの整理\n",
        "一人の生徒に二つの点数が対応している2次元のデータの整理方法を学習する。"
      ]
    },
    {
      "cell_type": "code",
      "metadata": {
        "id": "RxMpA9kVaK_x"
      },
      "source": [
        "# 事前準備\n",
        "import numpy as np\n",
        "import pandas as pd\n",
        "\n",
        "%precision 3\n",
        "pd.set_option('precision', 3)"
      ],
      "execution_count": null,
      "outputs": []
    },
    {
      "cell_type": "code",
      "metadata": {
        "colab": {
          "base_uri": "https://localhost:8080/",
          "height": 235
        },
        "id": "o0wX2rq0bVED",
        "outputId": "fc890c1e-8378-4c63-859c-2663d1e59373"
      },
      "source": [
        "df = pd.read_csv('drive/MyDrive/python_stat_sample-data/ch2_scores_em.csv', index_col='生徒番号')\n",
        "df.head()"
      ],
      "execution_count": null,
      "outputs": [
        {
          "output_type": "execute_result",
          "data": {
            "text/html": [
              "<div>\n",
              "<style scoped>\n",
              "    .dataframe tbody tr th:only-of-type {\n",
              "        vertical-align: middle;\n",
              "    }\n",
              "\n",
              "    .dataframe tbody tr th {\n",
              "        vertical-align: top;\n",
              "    }\n",
              "\n",
              "    .dataframe thead th {\n",
              "        text-align: right;\n",
              "    }\n",
              "</style>\n",
              "<table border=\"1\" class=\"dataframe\">\n",
              "  <thead>\n",
              "    <tr style=\"text-align: right;\">\n",
              "      <th></th>\n",
              "      <th>英語</th>\n",
              "      <th>数学</th>\n",
              "    </tr>\n",
              "    <tr>\n",
              "      <th>生徒番号</th>\n",
              "      <th></th>\n",
              "      <th></th>\n",
              "    </tr>\n",
              "  </thead>\n",
              "  <tbody>\n",
              "    <tr>\n",
              "      <th>1</th>\n",
              "      <td>42</td>\n",
              "      <td>65</td>\n",
              "    </tr>\n",
              "    <tr>\n",
              "      <th>2</th>\n",
              "      <td>69</td>\n",
              "      <td>80</td>\n",
              "    </tr>\n",
              "    <tr>\n",
              "      <th>3</th>\n",
              "      <td>56</td>\n",
              "      <td>63</td>\n",
              "    </tr>\n",
              "    <tr>\n",
              "      <th>4</th>\n",
              "      <td>41</td>\n",
              "      <td>63</td>\n",
              "    </tr>\n",
              "    <tr>\n",
              "      <th>5</th>\n",
              "      <td>57</td>\n",
              "      <td>76</td>\n",
              "    </tr>\n",
              "  </tbody>\n",
              "</table>\n",
              "</div>"
            ],
            "text/plain": [
              "      英語  数学\n",
              "生徒番号        \n",
              "1     42  65\n",
              "2     69  80\n",
              "3     56  63\n",
              "4     41  63\n",
              "5     57  76"
            ]
          },
          "metadata": {},
          "execution_count": 3
        }
      ]
    },
    {
      "cell_type": "code",
      "metadata": {
        "colab": {
          "base_uri": "https://localhost:8080/",
          "height": 390
        },
        "id": "kWwK9JRkb04L",
        "outputId": "620a32b8-eae6-4d02-86a4-7f227453c38d"
      },
      "source": [
        "# DataFrameを作成する\n",
        "en_scores = np.array(df['英語'])[:10]\n",
        "ma_scores = np.array(df['数学'])[:10]\n",
        "\n",
        "scores_df = pd.DataFrame({'英語':en_scores, '数学':ma_scores}, index=pd.Index(['A', 'B', 'C', 'D', 'E', 'F', 'G', 'H', 'I', 'J'], name='生徒'))\n",
        "scores_df"
      ],
      "execution_count": null,
      "outputs": [
        {
          "output_type": "execute_result",
          "data": {
            "text/html": [
              "<div>\n",
              "<style scoped>\n",
              "    .dataframe tbody tr th:only-of-type {\n",
              "        vertical-align: middle;\n",
              "    }\n",
              "\n",
              "    .dataframe tbody tr th {\n",
              "        vertical-align: top;\n",
              "    }\n",
              "\n",
              "    .dataframe thead th {\n",
              "        text-align: right;\n",
              "    }\n",
              "</style>\n",
              "<table border=\"1\" class=\"dataframe\">\n",
              "  <thead>\n",
              "    <tr style=\"text-align: right;\">\n",
              "      <th></th>\n",
              "      <th>英語</th>\n",
              "      <th>数学</th>\n",
              "    </tr>\n",
              "    <tr>\n",
              "      <th>生徒</th>\n",
              "      <th></th>\n",
              "      <th></th>\n",
              "    </tr>\n",
              "  </thead>\n",
              "  <tbody>\n",
              "    <tr>\n",
              "      <th>A</th>\n",
              "      <td>42</td>\n",
              "      <td>65</td>\n",
              "    </tr>\n",
              "    <tr>\n",
              "      <th>B</th>\n",
              "      <td>69</td>\n",
              "      <td>80</td>\n",
              "    </tr>\n",
              "    <tr>\n",
              "      <th>C</th>\n",
              "      <td>56</td>\n",
              "      <td>63</td>\n",
              "    </tr>\n",
              "    <tr>\n",
              "      <th>D</th>\n",
              "      <td>41</td>\n",
              "      <td>63</td>\n",
              "    </tr>\n",
              "    <tr>\n",
              "      <th>E</th>\n",
              "      <td>57</td>\n",
              "      <td>76</td>\n",
              "    </tr>\n",
              "    <tr>\n",
              "      <th>F</th>\n",
              "      <td>48</td>\n",
              "      <td>60</td>\n",
              "    </tr>\n",
              "    <tr>\n",
              "      <th>G</th>\n",
              "      <td>65</td>\n",
              "      <td>81</td>\n",
              "    </tr>\n",
              "    <tr>\n",
              "      <th>H</th>\n",
              "      <td>49</td>\n",
              "      <td>66</td>\n",
              "    </tr>\n",
              "    <tr>\n",
              "      <th>I</th>\n",
              "      <td>65</td>\n",
              "      <td>78</td>\n",
              "    </tr>\n",
              "    <tr>\n",
              "      <th>J</th>\n",
              "      <td>58</td>\n",
              "      <td>82</td>\n",
              "    </tr>\n",
              "  </tbody>\n",
              "</table>\n",
              "</div>"
            ],
            "text/plain": [
              "    英語  数学\n",
              "生徒        \n",
              "A   42  65\n",
              "B   69  80\n",
              "C   56  63\n",
              "D   41  63\n",
              "E   57  76\n",
              "F   48  60\n",
              "G   65  81\n",
              "H   49  66\n",
              "I   65  78\n",
              "J   58  82"
            ]
          },
          "metadata": {},
          "execution_count": 4
        }
      ]
    },
    {
      "cell_type": "markdown",
      "metadata": {
        "id": "QP9ryujpgQ7G"
      },
      "source": [
        "# 2つのデータの関係性の指標\n",
        "正の相関：英語の点数が高い人ほど、数学の点数が高い\n",
        "負の相関：英語の点数が高い人ほど、数学の点数が低い\n",
        "無相関：英語の点数が数学の点数に直接的な影響を及ぼさないとき"
      ]
    },
    {
      "cell_type": "markdown",
      "metadata": {
        "id": "cKtoYxNggt1n"
      },
      "source": [
        "## 共分散\n",
        "DataFrameでまとめつつ、共分散を計算してみる。"
      ]
    },
    {
      "cell_type": "code",
      "metadata": {
        "colab": {
          "base_uri": "https://localhost:8080/",
          "height": 390
        },
        "id": "L9kt9SR6ikh-",
        "outputId": "a97f97da-6407-42c8-fb0f-f02e18d506d7"
      },
      "source": [
        "summary_df = scores_df.copy()\n",
        "summary_df['英語の偏差'] =\\\n",
        "    summary_df['英語'] - summary_df['英語'].mean()\n",
        "summary_df['数学の偏差'] =\\\n",
        "    summary_df['数学'] - summary_df['数学'].mean()\n",
        "summary_df['偏差同士の積'] =\\\n",
        "    summary_df['英語の偏差'] * summary_df['数学の偏差']\n",
        "summary_df"
      ],
      "execution_count": 20,
      "outputs": [
        {
          "output_type": "execute_result",
          "data": {
            "text/html": [
              "<div>\n",
              "<style scoped>\n",
              "    .dataframe tbody tr th:only-of-type {\n",
              "        vertical-align: middle;\n",
              "    }\n",
              "\n",
              "    .dataframe tbody tr th {\n",
              "        vertical-align: top;\n",
              "    }\n",
              "\n",
              "    .dataframe thead th {\n",
              "        text-align: right;\n",
              "    }\n",
              "</style>\n",
              "<table border=\"1\" class=\"dataframe\">\n",
              "  <thead>\n",
              "    <tr style=\"text-align: right;\">\n",
              "      <th></th>\n",
              "      <th>英語</th>\n",
              "      <th>数学</th>\n",
              "      <th>英語の偏差</th>\n",
              "      <th>数学の偏差</th>\n",
              "      <th>偏差同士の積</th>\n",
              "    </tr>\n",
              "    <tr>\n",
              "      <th>生徒</th>\n",
              "      <th></th>\n",
              "      <th></th>\n",
              "      <th></th>\n",
              "      <th></th>\n",
              "      <th></th>\n",
              "    </tr>\n",
              "  </thead>\n",
              "  <tbody>\n",
              "    <tr>\n",
              "      <th>A</th>\n",
              "      <td>42</td>\n",
              "      <td>65</td>\n",
              "      <td>-13.0</td>\n",
              "      <td>-6.4</td>\n",
              "      <td>83.2</td>\n",
              "    </tr>\n",
              "    <tr>\n",
              "      <th>B</th>\n",
              "      <td>69</td>\n",
              "      <td>80</td>\n",
              "      <td>14.0</td>\n",
              "      <td>8.6</td>\n",
              "      <td>120.4</td>\n",
              "    </tr>\n",
              "    <tr>\n",
              "      <th>C</th>\n",
              "      <td>56</td>\n",
              "      <td>63</td>\n",
              "      <td>1.0</td>\n",
              "      <td>-8.4</td>\n",
              "      <td>-8.4</td>\n",
              "    </tr>\n",
              "    <tr>\n",
              "      <th>D</th>\n",
              "      <td>41</td>\n",
              "      <td>63</td>\n",
              "      <td>-14.0</td>\n",
              "      <td>-8.4</td>\n",
              "      <td>117.6</td>\n",
              "    </tr>\n",
              "    <tr>\n",
              "      <th>E</th>\n",
              "      <td>57</td>\n",
              "      <td>76</td>\n",
              "      <td>2.0</td>\n",
              "      <td>4.6</td>\n",
              "      <td>9.2</td>\n",
              "    </tr>\n",
              "    <tr>\n",
              "      <th>F</th>\n",
              "      <td>48</td>\n",
              "      <td>60</td>\n",
              "      <td>-7.0</td>\n",
              "      <td>-11.4</td>\n",
              "      <td>79.8</td>\n",
              "    </tr>\n",
              "    <tr>\n",
              "      <th>G</th>\n",
              "      <td>65</td>\n",
              "      <td>81</td>\n",
              "      <td>10.0</td>\n",
              "      <td>9.6</td>\n",
              "      <td>96.0</td>\n",
              "    </tr>\n",
              "    <tr>\n",
              "      <th>H</th>\n",
              "      <td>49</td>\n",
              "      <td>66</td>\n",
              "      <td>-6.0</td>\n",
              "      <td>-5.4</td>\n",
              "      <td>32.4</td>\n",
              "    </tr>\n",
              "    <tr>\n",
              "      <th>I</th>\n",
              "      <td>65</td>\n",
              "      <td>78</td>\n",
              "      <td>10.0</td>\n",
              "      <td>6.6</td>\n",
              "      <td>66.0</td>\n",
              "    </tr>\n",
              "    <tr>\n",
              "      <th>J</th>\n",
              "      <td>58</td>\n",
              "      <td>82</td>\n",
              "      <td>3.0</td>\n",
              "      <td>10.6</td>\n",
              "      <td>31.8</td>\n",
              "    </tr>\n",
              "  </tbody>\n",
              "</table>\n",
              "</div>"
            ],
            "text/plain": [
              "    英語  数学  英語の偏差  数学の偏差  偏差同士の積\n",
              "生徒                              \n",
              "A   42  65  -13.0   -6.4    83.2\n",
              "B   69  80   14.0    8.6   120.4\n",
              "C   56  63    1.0   -8.4    -8.4\n",
              "D   41  63  -14.0   -8.4   117.6\n",
              "E   57  76    2.0    4.6     9.2\n",
              "F   48  60   -7.0  -11.4    79.8\n",
              "G   65  81   10.0    9.6    96.0\n",
              "H   49  66   -6.0   -5.4    32.4\n",
              "I   65  78   10.0    6.6    66.0\n",
              "J   58  82    3.0   10.6    31.8"
            ]
          },
          "metadata": {},
          "execution_count": 20
        }
      ]
    },
    {
      "cell_type": "code",
      "metadata": {
        "colab": {
          "base_uri": "https://localhost:8080/"
        },
        "id": "eQn4IC0UnxSX",
        "outputId": "86590654-713d-445d-b307-93d7eba10098"
      },
      "source": [
        "# 共分散：偏差同士の積の平均（数値が正なら正の相関、負ならば負の相関、0ならば無相関）\n",
        "summary_df['偏差同士の積'].mean()"
      ],
      "execution_count": 21,
      "outputs": [
        {
          "output_type": "execute_result",
          "data": {
            "text/plain": [
              "62.800"
            ]
          },
          "metadata": {},
          "execution_count": 21
        }
      ]
    },
    {
      "cell_type": "code",
      "metadata": {
        "colab": {
          "base_uri": "https://localhost:8080/"
        },
        "id": "_h6DYeCzo9s2",
        "outputId": "a7f59f7e-ae1b-48d4-a125-6df8cd971d4d"
      },
      "source": [
        "# NumPyで共分散を求めるcov関数\n",
        "# 返り値は共分散行列（covariance matrix）または分散共分散行列（variance covariance matrix）と呼ばれる行列\n",
        "cov_mat = np.cov(en_scores, ma_scores, ddof = 0)\n",
        "cov_mat"
      ],
      "execution_count": 22,
      "outputs": [
        {
          "output_type": "execute_result",
          "data": {
            "text/plain": [
              "array([[86.  , 62.8 ],\n",
              "       [62.8 , 68.44]])"
            ]
          },
          "metadata": {},
          "execution_count": 22
        }
      ]
    },
    {
      "cell_type": "markdown",
      "metadata": {
        "id": "2NHewCNVpkPj"
      },
      "source": [
        "上記行列は1行目と1列目が英語、2行目と2列目が数学に対応"
      ]
    },
    {
      "cell_type": "markdown",
      "metadata": {
        "id": "KYffY7dU1vFt"
      },
      "source": [
        "## 相関係数\n",
        "相関係数（correlation coefficient）：単位に依存しない相関を表す指標\n",
        "\n",
        "各データの標準偏差を割った値"
      ]
    },
    {
      "cell_type": "code",
      "metadata": {
        "colab": {
          "base_uri": "https://localhost:8080/"
        },
        "id": "Gi_SgAP22LPD",
        "outputId": "c7af2b27-8358-4c23-bc4b-b18bd871bc99"
      },
      "source": [
        "# 英語と数学の点数の相関係数を求める\n",
        "np.cov(en_scores, ma_scores, ddof=0)[0, 1] /\\\n",
        "    (np.std(en_scores) * np.std(ma_scores))"
      ],
      "execution_count": 23,
      "outputs": [
        {
          "output_type": "execute_result",
          "data": {
            "text/plain": [
              "0.819"
            ]
          },
          "metadata": {},
          "execution_count": 23
        }
      ]
    },
    {
      "cell_type": "code",
      "metadata": {
        "colab": {
          "base_uri": "https://localhost:8080/"
        },
        "id": "9SMbvYv42iCE",
        "outputId": "bdc9666e-bc9b-46f8-f97a-9e1c18b04e87"
      },
      "source": [
        "# NumPyのcorrcoef関数で相関係数を計算する。\n",
        "# 返り値は相関行列（correlation matrix）と呼ばれる行列\n",
        "np.corrcoef(en_scores, ma_scores)"
      ],
      "execution_count": 24,
      "outputs": [
        {
          "output_type": "execute_result",
          "data": {
            "text/plain": [
              "array([[1.   , 0.819],\n",
              "       [0.819, 1.   ]])"
            ]
          },
          "metadata": {},
          "execution_count": 24
        }
      ]
    },
    {
      "cell_type": "code",
      "metadata": {
        "colab": {
          "base_uri": "https://localhost:8080/",
          "height": 111
        },
        "id": "aR0SG36C27dW",
        "outputId": "614356e5-56fe-4ea8-c418-efa67d09e0b5"
      },
      "source": [
        "# DataFrameの場合、corrメソッドを使う\n",
        "scores_df.corr()"
      ],
      "execution_count": 25,
      "outputs": [
        {
          "output_type": "execute_result",
          "data": {
            "text/html": [
              "<div>\n",
              "<style scoped>\n",
              "    .dataframe tbody tr th:only-of-type {\n",
              "        vertical-align: middle;\n",
              "    }\n",
              "\n",
              "    .dataframe tbody tr th {\n",
              "        vertical-align: top;\n",
              "    }\n",
              "\n",
              "    .dataframe thead th {\n",
              "        text-align: right;\n",
              "    }\n",
              "</style>\n",
              "<table border=\"1\" class=\"dataframe\">\n",
              "  <thead>\n",
              "    <tr style=\"text-align: right;\">\n",
              "      <th></th>\n",
              "      <th>英語</th>\n",
              "      <th>数学</th>\n",
              "    </tr>\n",
              "  </thead>\n",
              "  <tbody>\n",
              "    <tr>\n",
              "      <th>英語</th>\n",
              "      <td>1.000</td>\n",
              "      <td>0.819</td>\n",
              "    </tr>\n",
              "    <tr>\n",
              "      <th>数学</th>\n",
              "      <td>0.819</td>\n",
              "      <td>1.000</td>\n",
              "    </tr>\n",
              "  </tbody>\n",
              "</table>\n",
              "</div>"
            ],
            "text/plain": [
              "       英語     数学\n",
              "英語  1.000  0.819\n",
              "数学  0.819  1.000"
            ]
          },
          "metadata": {},
          "execution_count": 25
        }
      ]
    },
    {
      "cell_type": "markdown",
      "metadata": {
        "id": "gLnNSY1e4YSk"
      },
      "source": [
        "# 2次元データの視覚化\n"
      ]
    },
    {
      "cell_type": "code",
      "metadata": {
        "id": "d3kaep8I4jx8"
      },
      "source": [
        "# Matplotlibの準備\n",
        "import matplotlib.pyplot as plt\n",
        "\n",
        "%matplotlib inline"
      ],
      "execution_count": 26,
      "outputs": []
    },
    {
      "cell_type": "code",
      "metadata": {
        "colab": {
          "base_uri": "https://localhost:8080/",
          "height": 497
        },
        "id": "qTlAAAcL4t_V",
        "outputId": "c311f55d-a7f2-4c09-c667-d488b699fd9d"
      },
      "source": [
        "english_scores = np.array(df['英語'])\n",
        "math_scores = np.array(df['数学'])\n",
        "\n",
        "fig = plt.figure(figsize=(8,8))\n",
        "ax = fig.add_subplot(111)\n",
        "#散布図\n",
        "ax.scatter(english_scores, math_scores)\n",
        "ax.set_xlabel('English')\n",
        "ax.set_ylabel('Math')\n",
        "\n",
        "plt.show()"
      ],
      "execution_count": 28,
      "outputs": [
        {
          "output_type": "display_data",
          "data": {
            "image/png": "[encoded data removed]",
            "text/plain": [
              "<Figure size 576x576 with 1 Axes>"
            ]
          },
          "metadata": {
            "needs_background": "light"
          }
        }
      ]
    },
    {
      "cell_type": "markdown",
      "metadata": {
        "id": "DuHAThNo5mLP"
      },
      "source": [
        "## 回帰直線\n",
        "回帰直線（regression line）：2つのデータ間の関係性を表現する直線\n",
        "\n",
        "Matplotlibには回帰直線を描画するメソッドがないため、NumPyを使って回帰直線を求める。（np.polyfit関数とnp.poly1d関数を使う）"
      ]
    },
    {
      "cell_type": "code",
      "metadata": {
        "colab": {
          "base_uri": "https://localhost:8080/",
          "height": 497
        },
        "id": "4xVdd5hd6IfP",
        "outputId": "2de2ae52-3682-43a1-a03c-889010698b8d"
      },
      "source": [
        "# 回帰直線と散布図を一緒に描画する\n",
        "# 係数β_0とβ_1を求める\n",
        "poly_fit = np.polyfit(english_scores, math_scores,1)\n",
        "# β_0＋β_1 xを返す関数を作る\n",
        "poly_1d = np.poly1d(poly_fit)\n",
        "# 直線を描画するためのx座標を作る\n",
        "xs = np.linspace(english_scores.min(), english_scores.max())\n",
        "# xsに対応するy座標を求める\n",
        "ys = poly_1d(xs)\n",
        "\n",
        "fig = plt.figure(figsize=(8,8))\n",
        "ax = fig.add_subplot(111)\n",
        "ax.set_xlabel('English')\n",
        "ax.set_ylabel('Math')\n",
        "ax.scatter(english_scores, math_scores, label='Scores')\n",
        "ax.plot(xs, ys, color='gray', label=f'{poly_fit[1]:.2f}+{poly_fit[0]:.2f}x')\n",
        "# 凡例の表示\n",
        "ax.legend(loc='upper left')\n",
        "\n",
        "plt.show()"
      ],
      "execution_count": 30,
      "outputs": [
        {
          "output_type": "display_data",
          "data": {
            "image/png": "[encoded data removed]",
            "text/plain": [
              "<Figure size 576x576 with 1 Axes>"
            ]
          },
          "metadata": {
            "needs_background": "light"
          }
        }
      ]
    },
    {
      "cell_type": "markdown",
      "metadata": {
        "id": "VVHaTE2e9Wrm"
      },
      "source": [
        "## ヒートマップ\n",
        "ヒストグラムの2次元版を色によってあらわすことができるグラフ。\n",
        "\n",
        "hist2dメソッドによって作ることが可能。引数もほどんどhistメソッドと同じ。\n",
        "\n",
        "色の濃い領域ほど多くの人が分布していることを表す。\n",
        "\n",
        "* 英語の点数は35点から80点まで5点刻み\n",
        "* 数学の点数は55点から95点まで5点刻み\n",
        "\n",
        "になるよう、binsとrangeを指定する。"
      ]
    },
    {
      "cell_type": "code",
      "metadata": {
        "colab": {
          "base_uri": "https://localhost:8080/",
          "height": 487
        },
        "id": "m92psZVu9Vzh",
        "outputId": "2a2226ed-97fd-4494-d048-e95674646f7c"
      },
      "source": [
        "fig = plt.figure(figsize=(10,8))\n",
        "ax = fig.add_subplot(111)\n",
        "\n",
        "c = ax.hist2d(english_scores, math_scores, bins=[9,8], range=[(35,80), (55,95)])\n",
        "ax.set_xticks(c[1])\n",
        "ax.set_yticks(c[2])\n",
        "# カラーバーの表示\n",
        "fig.colorbar(c[3], ax=ax)\n",
        "plt.show()"
      ],
      "execution_count": 31,
      "outputs": [
        {
          "output_type": "display_data",
          "data": {
            "image/png": "[encoded data removed]",
            "text/plain": [
              "<Figure size 720x576 with 2 Axes>"
            ]
          },
          "metadata": {
            "needs_background": "light"
          }
        }
      ]
    }
  ]
}